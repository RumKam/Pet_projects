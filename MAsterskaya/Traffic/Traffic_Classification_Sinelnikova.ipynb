{
 "cells": [
  {
   "cell_type": "markdown",
   "id": "dd9d4865",
   "metadata": {
    "toc": true
   },
   "source": [
    "<h1>Table of Contents<span class=\"tocSkip\"></span></h1>\n",
    "<div class=\"toc\"><ul class=\"toc-item\"><li><span><a href=\"#Первая-модель\" data-toc-modified-id=\"Первая-модель-1\"><span class=\"toc-item-num\">1&nbsp;&nbsp;</span>Первая модель</a></span></li><li><span><a href=\"#Вторая-модель\" data-toc-modified-id=\"Вторая-модель-2\"><span class=\"toc-item-num\">2&nbsp;&nbsp;</span>Вторая модель</a></span></li></ul></div>"
   ]
  },
  {
   "cell_type": "markdown",
   "id": "f2730915",
   "metadata": {},
   "source": [
    "# Задача\n",
    "\n",
    "Разработать модель, которая будет классифицировать трафик на нормальный и злонамеренный. При этом модель должна работать максимально качественно, так как цена ошибки может быть очень высока. Оценить качество модели по различным метрикам классификации: precision, recall, f1_score, accuracy.\n",
    "\n",
    "План проекта:\n",
    "1. загрузить данные и провести исследование;\n",
    "2. выполнить предобработку данных;\n",
    "3. исследовать баланс данных;\n",
    "4. обучить модель с подбором гиперпараметров;\n",
    "5. проестировать модель и оценить результат."
   ]
  },
  {
   "cell_type": "code",
   "execution_count": 5,
   "id": "0b954fd4",
   "metadata": {},
   "outputs": [],
   "source": [
    "import catboost\n",
    "import numpy as np\n",
    "import matplotlib.pyplot as plt\n",
    "import pandas as pd\n",
    "import pickle\n",
    "import json\n",
    "\n",
    "from catboost import CatBoostClassifier\n",
    "from sklearn.metrics import (confusion_matrix, \n",
    "                             roc_auc_score,\n",
    "                             make_scorer,\n",
    "                             f1_score,\n",
    "                             precision_score,\n",
    "                             recall_score,\n",
    "                             roc_curve,\n",
    "                             classification_report)\n",
    "\n",
    "from sklearn.model_selection import train_test_split\n",
    "\n",
    "import warnings\n",
    "warnings.filterwarnings(\"ignore\")\n",
    "\n",
    "pd.set_option('display.max_columns', 80)"
   ]
  },
  {
   "cell_type": "markdown",
   "id": "35722147",
   "metadata": {},
   "source": [
    "# Предварительный анализ данных"
   ]
  },
  {
   "cell_type": "code",
   "execution_count": 144,
   "id": "13e33645",
   "metadata": {},
   "outputs": [],
   "source": [
    "# Загрузим данные\n",
    "df = pd.read_csv('network_traffic_data.csv', sep=',')"
   ]
  },
  {
   "cell_type": "code",
   "execution_count": 145,
   "id": "8a6a8d91",
   "metadata": {},
   "outputs": [
    {
     "data": {
      "text/html": [
       "<div>\n",
       "<style scoped>\n",
       "    .dataframe tbody tr th:only-of-type {\n",
       "        vertical-align: middle;\n",
       "    }\n",
       "\n",
       "    .dataframe tbody tr th {\n",
       "        vertical-align: top;\n",
       "    }\n",
       "\n",
       "    .dataframe thead th {\n",
       "        text-align: right;\n",
       "    }\n",
       "</style>\n",
       "<table border=\"1\" class=\"dataframe\">\n",
       "  <thead>\n",
       "    <tr style=\"text-align: right;\">\n",
       "      <th></th>\n",
       "      <th>Destination Port</th>\n",
       "      <th>Flow Duration</th>\n",
       "      <th>Total Fwd Packets</th>\n",
       "      <th>Total Backward Packets</th>\n",
       "      <th>Total Length of Fwd Packets</th>\n",
       "      <th>Total Length of Bwd Packets</th>\n",
       "      <th>Fwd Packet Length Max</th>\n",
       "      <th>Fwd Packet Length Min</th>\n",
       "      <th>Fwd Packet Length Mean</th>\n",
       "      <th>Fwd Packet Length Std</th>\n",
       "      <th>Bwd Packet Length Max</th>\n",
       "      <th>Bwd Packet Length Min</th>\n",
       "      <th>Bwd Packet Length Mean</th>\n",
       "      <th>Bwd Packet Length Std</th>\n",
       "      <th>Flow Bytes/s</th>\n",
       "      <th>Flow Packets/s</th>\n",
       "      <th>Flow IAT Mean</th>\n",
       "      <th>Flow IAT Std</th>\n",
       "      <th>Flow IAT Max</th>\n",
       "      <th>Flow IAT Min</th>\n",
       "      <th>Fwd IAT Total</th>\n",
       "      <th>Fwd IAT Mean</th>\n",
       "      <th>Fwd IAT Std</th>\n",
       "      <th>Fwd IAT Max</th>\n",
       "      <th>Fwd IAT Min</th>\n",
       "      <th>Bwd IAT Total</th>\n",
       "      <th>Bwd IAT Mean</th>\n",
       "      <th>Bwd IAT Std</th>\n",
       "      <th>Bwd IAT Max</th>\n",
       "      <th>Bwd IAT Min</th>\n",
       "      <th>Fwd PSH Flags</th>\n",
       "      <th>Bwd PSH Flags</th>\n",
       "      <th>Fwd URG Flags</th>\n",
       "      <th>Bwd URG Flags</th>\n",
       "      <th>Fwd Header Length</th>\n",
       "      <th>Bwd Header Length</th>\n",
       "      <th>Fwd Packets/s</th>\n",
       "      <th>Bwd Packets/s</th>\n",
       "      <th>Min Packet Length</th>\n",
       "      <th>Max Packet Length</th>\n",
       "      <th>Packet Length Mean</th>\n",
       "      <th>Packet Length Std</th>\n",
       "      <th>Packet Length Variance</th>\n",
       "      <th>FIN Flag Count</th>\n",
       "      <th>SYN Flag Count</th>\n",
       "      <th>RST Flag Count</th>\n",
       "      <th>PSH Flag Count</th>\n",
       "      <th>ACK Flag Count</th>\n",
       "      <th>URG Flag Count</th>\n",
       "      <th>CWE Flag Count</th>\n",
       "      <th>ECE Flag Count</th>\n",
       "      <th>Down/Up Ratio</th>\n",
       "      <th>Average Packet Size</th>\n",
       "      <th>Avg Fwd Segment Size</th>\n",
       "      <th>Avg Bwd Segment Size</th>\n",
       "      <th>Fwd Header Length.1</th>\n",
       "      <th>Fwd Avg Bytes/Bulk</th>\n",
       "      <th>Fwd Avg Packets/Bulk</th>\n",
       "      <th>Fwd Avg Bulk Rate</th>\n",
       "      <th>Bwd Avg Bytes/Bulk</th>\n",
       "      <th>Bwd Avg Packets/Bulk</th>\n",
       "      <th>Bwd Avg Bulk Rate</th>\n",
       "      <th>Subflow Fwd Packets</th>\n",
       "      <th>Subflow Fwd Bytes</th>\n",
       "      <th>Subflow Bwd Packets</th>\n",
       "      <th>Subflow Bwd Bytes</th>\n",
       "      <th>Init_Win_bytes_forward</th>\n",
       "      <th>Init_Win_bytes_backward</th>\n",
       "      <th>act_data_pkt_fwd</th>\n",
       "      <th>min_seg_size_forward</th>\n",
       "      <th>Active Mean</th>\n",
       "      <th>Active Std</th>\n",
       "      <th>Active Max</th>\n",
       "      <th>Active Min</th>\n",
       "      <th>Idle Mean</th>\n",
       "      <th>Idle Std</th>\n",
       "      <th>Idle Max</th>\n",
       "      <th>Idle Min</th>\n",
       "      <th>Label</th>\n",
       "    </tr>\n",
       "  </thead>\n",
       "  <tbody>\n",
       "    <tr>\n",
       "      <th>23387</th>\n",
       "      <td>16016</td>\n",
       "      <td>71</td>\n",
       "      <td>2</td>\n",
       "      <td>2</td>\n",
       "      <td>4</td>\n",
       "      <td>12</td>\n",
       "      <td>2</td>\n",
       "      <td>2</td>\n",
       "      <td>2.0</td>\n",
       "      <td>0.0</td>\n",
       "      <td>6</td>\n",
       "      <td>6</td>\n",
       "      <td>6.0</td>\n",
       "      <td>0.0</td>\n",
       "      <td>2.253521e+05</td>\n",
       "      <td>56338.028170</td>\n",
       "      <td>2.366667e+01</td>\n",
       "      <td>2.081666e+00</td>\n",
       "      <td>26</td>\n",
       "      <td>22</td>\n",
       "      <td>49</td>\n",
       "      <td>49.0</td>\n",
       "      <td>0.0</td>\n",
       "      <td>49</td>\n",
       "      <td>49</td>\n",
       "      <td>48</td>\n",
       "      <td>48.0</td>\n",
       "      <td>0.00</td>\n",
       "      <td>48</td>\n",
       "      <td>48</td>\n",
       "      <td>0</td>\n",
       "      <td>0</td>\n",
       "      <td>0</td>\n",
       "      <td>0</td>\n",
       "      <td>48</td>\n",
       "      <td>40</td>\n",
       "      <td>28169.014000</td>\n",
       "      <td>28169.014000</td>\n",
       "      <td>2</td>\n",
       "      <td>6</td>\n",
       "      <td>3.6</td>\n",
       "      <td>2.191</td>\n",
       "      <td>4.8</td>\n",
       "      <td>0</td>\n",
       "      <td>0</td>\n",
       "      <td>0</td>\n",
       "      <td>1</td>\n",
       "      <td>0</td>\n",
       "      <td>0</td>\n",
       "      <td>0</td>\n",
       "      <td>0</td>\n",
       "      <td>1</td>\n",
       "      <td>4.5</td>\n",
       "      <td>2.0</td>\n",
       "      <td>6.0</td>\n",
       "      <td>48</td>\n",
       "      <td>0</td>\n",
       "      <td>0</td>\n",
       "      <td>0</td>\n",
       "      <td>0</td>\n",
       "      <td>0</td>\n",
       "      <td>0</td>\n",
       "      <td>2</td>\n",
       "      <td>4</td>\n",
       "      <td>2</td>\n",
       "      <td>12</td>\n",
       "      <td>1024</td>\n",
       "      <td>0</td>\n",
       "      <td>1</td>\n",
       "      <td>24</td>\n",
       "      <td>0.0</td>\n",
       "      <td>0.0</td>\n",
       "      <td>0</td>\n",
       "      <td>0</td>\n",
       "      <td>0.0</td>\n",
       "      <td>0.0</td>\n",
       "      <td>0</td>\n",
       "      <td>0</td>\n",
       "      <td>BENIGN</td>\n",
       "    </tr>\n",
       "    <tr>\n",
       "      <th>267403</th>\n",
       "      <td>80</td>\n",
       "      <td>12107687</td>\n",
       "      <td>5</td>\n",
       "      <td>0</td>\n",
       "      <td>30</td>\n",
       "      <td>0</td>\n",
       "      <td>6</td>\n",
       "      <td>6</td>\n",
       "      <td>6.0</td>\n",
       "      <td>0.0</td>\n",
       "      <td>0</td>\n",
       "      <td>0</td>\n",
       "      <td>0.0</td>\n",
       "      <td>0.0</td>\n",
       "      <td>2.477765e+00</td>\n",
       "      <td>0.412961</td>\n",
       "      <td>3.026922e+06</td>\n",
       "      <td>6.052484e+06</td>\n",
       "      <td>12100000</td>\n",
       "      <td>1</td>\n",
       "      <td>12100000</td>\n",
       "      <td>3026921.8</td>\n",
       "      <td>6052483.5</td>\n",
       "      <td>12100000</td>\n",
       "      <td>1</td>\n",
       "      <td>0</td>\n",
       "      <td>0.0</td>\n",
       "      <td>0.00</td>\n",
       "      <td>0</td>\n",
       "      <td>0</td>\n",
       "      <td>0</td>\n",
       "      <td>0</td>\n",
       "      <td>0</td>\n",
       "      <td>0</td>\n",
       "      <td>100</td>\n",
       "      <td>0</td>\n",
       "      <td>0.412961</td>\n",
       "      <td>0.000000</td>\n",
       "      <td>6</td>\n",
       "      <td>6</td>\n",
       "      <td>6.0</td>\n",
       "      <td>0.000</td>\n",
       "      <td>0.0</td>\n",
       "      <td>0</td>\n",
       "      <td>0</td>\n",
       "      <td>0</td>\n",
       "      <td>0</td>\n",
       "      <td>1</td>\n",
       "      <td>0</td>\n",
       "      <td>0</td>\n",
       "      <td>0</td>\n",
       "      <td>0</td>\n",
       "      <td>7.2</td>\n",
       "      <td>6.0</td>\n",
       "      <td>0.0</td>\n",
       "      <td>100</td>\n",
       "      <td>0</td>\n",
       "      <td>0</td>\n",
       "      <td>0</td>\n",
       "      <td>0</td>\n",
       "      <td>0</td>\n",
       "      <td>0</td>\n",
       "      <td>5</td>\n",
       "      <td>30</td>\n",
       "      <td>0</td>\n",
       "      <td>0</td>\n",
       "      <td>256</td>\n",
       "      <td>-1</td>\n",
       "      <td>4</td>\n",
       "      <td>20</td>\n",
       "      <td>2040.0</td>\n",
       "      <td>0.0</td>\n",
       "      <td>2040</td>\n",
       "      <td>2040</td>\n",
       "      <td>12100000.0</td>\n",
       "      <td>0.0</td>\n",
       "      <td>12100000</td>\n",
       "      <td>12100000</td>\n",
       "      <td>DDoS</td>\n",
       "    </tr>\n",
       "    <tr>\n",
       "      <th>250300</th>\n",
       "      <td>80</td>\n",
       "      <td>100891638</td>\n",
       "      <td>10</td>\n",
       "      <td>6</td>\n",
       "      <td>744</td>\n",
       "      <td>11595</td>\n",
       "      <td>372</td>\n",
       "      <td>0</td>\n",
       "      <td>74.4</td>\n",
       "      <td>156.9</td>\n",
       "      <td>4344</td>\n",
       "      <td>0</td>\n",
       "      <td>1932.0</td>\n",
       "      <td>1755.0</td>\n",
       "      <td>1.222995e+02</td>\n",
       "      <td>0.158586</td>\n",
       "      <td>6.726109e+06</td>\n",
       "      <td>2.570000e+07</td>\n",
       "      <td>99500000</td>\n",
       "      <td>1</td>\n",
       "      <td>101000000</td>\n",
       "      <td>11200000.0</td>\n",
       "      <td>33100000.0</td>\n",
       "      <td>99500000</td>\n",
       "      <td>1</td>\n",
       "      <td>357399</td>\n",
       "      <td>71479.8</td>\n",
       "      <td>102894.95</td>\n",
       "      <td>223964</td>\n",
       "      <td>16</td>\n",
       "      <td>0</td>\n",
       "      <td>0</td>\n",
       "      <td>0</td>\n",
       "      <td>0</td>\n",
       "      <td>336</td>\n",
       "      <td>200</td>\n",
       "      <td>0.099116</td>\n",
       "      <td>0.059470</td>\n",
       "      <td>0</td>\n",
       "      <td>4344</td>\n",
       "      <td>726.0</td>\n",
       "      <td>1349.000</td>\n",
       "      <td>1820333.5</td>\n",
       "      <td>0</td>\n",
       "      <td>0</td>\n",
       "      <td>0</td>\n",
       "      <td>0</td>\n",
       "      <td>1</td>\n",
       "      <td>0</td>\n",
       "      <td>0</td>\n",
       "      <td>0</td>\n",
       "      <td>0</td>\n",
       "      <td>771.0</td>\n",
       "      <td>74.4</td>\n",
       "      <td>1932.0</td>\n",
       "      <td>336</td>\n",
       "      <td>0</td>\n",
       "      <td>0</td>\n",
       "      <td>0</td>\n",
       "      <td>0</td>\n",
       "      <td>0</td>\n",
       "      <td>0</td>\n",
       "      <td>10</td>\n",
       "      <td>744</td>\n",
       "      <td>6</td>\n",
       "      <td>11595</td>\n",
       "      <td>251</td>\n",
       "      <td>235</td>\n",
       "      <td>2</td>\n",
       "      <td>32</td>\n",
       "      <td>10.0</td>\n",
       "      <td>0.0</td>\n",
       "      <td>10</td>\n",
       "      <td>10</td>\n",
       "      <td>99500000.0</td>\n",
       "      <td>0.0</td>\n",
       "      <td>99500000</td>\n",
       "      <td>99500000</td>\n",
       "      <td>DoS Hulk</td>\n",
       "    </tr>\n",
       "    <tr>\n",
       "      <th>520046</th>\n",
       "      <td>80</td>\n",
       "      <td>109009241</td>\n",
       "      <td>2</td>\n",
       "      <td>2</td>\n",
       "      <td>16</td>\n",
       "      <td>0</td>\n",
       "      <td>8</td>\n",
       "      <td>8</td>\n",
       "      <td>8.0</td>\n",
       "      <td>0.0</td>\n",
       "      <td>0</td>\n",
       "      <td>0</td>\n",
       "      <td>0.0</td>\n",
       "      <td>0.0</td>\n",
       "      <td>1.467765e-01</td>\n",
       "      <td>0.036694</td>\n",
       "      <td>3.630000e+07</td>\n",
       "      <td>6.290000e+07</td>\n",
       "      <td>109000000</td>\n",
       "      <td>78</td>\n",
       "      <td>109000000</td>\n",
       "      <td>109000000.0</td>\n",
       "      <td>0.0</td>\n",
       "      <td>109000000</td>\n",
       "      <td>109000000</td>\n",
       "      <td>109000000</td>\n",
       "      <td>109000000.0</td>\n",
       "      <td>0.00</td>\n",
       "      <td>109000000</td>\n",
       "      <td>109000000</td>\n",
       "      <td>1</td>\n",
       "      <td>0</td>\n",
       "      <td>0</td>\n",
       "      <td>0</td>\n",
       "      <td>64</td>\n",
       "      <td>64</td>\n",
       "      <td>0.018347</td>\n",
       "      <td>0.018347</td>\n",
       "      <td>0</td>\n",
       "      <td>8</td>\n",
       "      <td>4.8</td>\n",
       "      <td>4.383</td>\n",
       "      <td>19.2</td>\n",
       "      <td>0</td>\n",
       "      <td>1</td>\n",
       "      <td>0</td>\n",
       "      <td>0</td>\n",
       "      <td>1</td>\n",
       "      <td>0</td>\n",
       "      <td>0</td>\n",
       "      <td>0</td>\n",
       "      <td>1</td>\n",
       "      <td>6.0</td>\n",
       "      <td>8.0</td>\n",
       "      <td>0.0</td>\n",
       "      <td>64</td>\n",
       "      <td>0</td>\n",
       "      <td>0</td>\n",
       "      <td>0</td>\n",
       "      <td>0</td>\n",
       "      <td>0</td>\n",
       "      <td>0</td>\n",
       "      <td>2</td>\n",
       "      <td>16</td>\n",
       "      <td>2</td>\n",
       "      <td>0</td>\n",
       "      <td>229</td>\n",
       "      <td>235</td>\n",
       "      <td>1</td>\n",
       "      <td>32</td>\n",
       "      <td>78.0</td>\n",
       "      <td>0.0</td>\n",
       "      <td>78</td>\n",
       "      <td>78</td>\n",
       "      <td>109000000.0</td>\n",
       "      <td>0.0</td>\n",
       "      <td>109000000</td>\n",
       "      <td>109000000</td>\n",
       "      <td>DoS slowloris</td>\n",
       "    </tr>\n",
       "    <tr>\n",
       "      <th>132348</th>\n",
       "      <td>53</td>\n",
       "      <td>165</td>\n",
       "      <td>2</td>\n",
       "      <td>2</td>\n",
       "      <td>72</td>\n",
       "      <td>104</td>\n",
       "      <td>36</td>\n",
       "      <td>36</td>\n",
       "      <td>36.0</td>\n",
       "      <td>0.0</td>\n",
       "      <td>52</td>\n",
       "      <td>52</td>\n",
       "      <td>52.0</td>\n",
       "      <td>0.0</td>\n",
       "      <td>1.066667e+06</td>\n",
       "      <td>24242.424240</td>\n",
       "      <td>5.500000e+01</td>\n",
       "      <td>5.524491e+01</td>\n",
       "      <td>113</td>\n",
       "      <td>3</td>\n",
       "      <td>3</td>\n",
       "      <td>3.0</td>\n",
       "      <td>0.0</td>\n",
       "      <td>3</td>\n",
       "      <td>3</td>\n",
       "      <td>49</td>\n",
       "      <td>49.0</td>\n",
       "      <td>0.00</td>\n",
       "      <td>49</td>\n",
       "      <td>49</td>\n",
       "      <td>0</td>\n",
       "      <td>0</td>\n",
       "      <td>0</td>\n",
       "      <td>0</td>\n",
       "      <td>64</td>\n",
       "      <td>64</td>\n",
       "      <td>12121.212000</td>\n",
       "      <td>12121.212000</td>\n",
       "      <td>36</td>\n",
       "      <td>52</td>\n",
       "      <td>42.4</td>\n",
       "      <td>8.766</td>\n",
       "      <td>76.8</td>\n",
       "      <td>0</td>\n",
       "      <td>0</td>\n",
       "      <td>0</td>\n",
       "      <td>0</td>\n",
       "      <td>0</td>\n",
       "      <td>0</td>\n",
       "      <td>0</td>\n",
       "      <td>0</td>\n",
       "      <td>1</td>\n",
       "      <td>53.0</td>\n",
       "      <td>36.0</td>\n",
       "      <td>52.0</td>\n",
       "      <td>64</td>\n",
       "      <td>0</td>\n",
       "      <td>0</td>\n",
       "      <td>0</td>\n",
       "      <td>0</td>\n",
       "      <td>0</td>\n",
       "      <td>0</td>\n",
       "      <td>2</td>\n",
       "      <td>72</td>\n",
       "      <td>2</td>\n",
       "      <td>104</td>\n",
       "      <td>-1</td>\n",
       "      <td>-1</td>\n",
       "      <td>1</td>\n",
       "      <td>32</td>\n",
       "      <td>0.0</td>\n",
       "      <td>0.0</td>\n",
       "      <td>0</td>\n",
       "      <td>0</td>\n",
       "      <td>0.0</td>\n",
       "      <td>0.0</td>\n",
       "      <td>0</td>\n",
       "      <td>0</td>\n",
       "      <td>BENIGN</td>\n",
       "    </tr>\n",
       "  </tbody>\n",
       "</table>\n",
       "</div>"
      ],
      "text/plain": [
       "         Destination Port   Flow Duration   Total Fwd Packets  \\\n",
       "23387               16016              71                   2   \n",
       "267403                 80        12107687                   5   \n",
       "250300                 80       100891638                  10   \n",
       "520046                 80       109009241                   2   \n",
       "132348                 53             165                   2   \n",
       "\n",
       "         Total Backward Packets  Total Length of Fwd Packets  \\\n",
       "23387                         2                            4   \n",
       "267403                        0                           30   \n",
       "250300                        6                          744   \n",
       "520046                        2                           16   \n",
       "132348                        2                           72   \n",
       "\n",
       "         Total Length of Bwd Packets   Fwd Packet Length Max  \\\n",
       "23387                             12                       2   \n",
       "267403                             0                       6   \n",
       "250300                         11595                     372   \n",
       "520046                             0                       8   \n",
       "132348                           104                      36   \n",
       "\n",
       "         Fwd Packet Length Min   Fwd Packet Length Mean  \\\n",
       "23387                        2                      2.0   \n",
       "267403                       6                      6.0   \n",
       "250300                       0                     74.4   \n",
       "520046                       8                      8.0   \n",
       "132348                      36                     36.0   \n",
       "\n",
       "         Fwd Packet Length Std  Bwd Packet Length Max   Bwd Packet Length Min  \\\n",
       "23387                      0.0                      6                       6   \n",
       "267403                     0.0                      0                       0   \n",
       "250300                   156.9                   4344                       0   \n",
       "520046                     0.0                      0                       0   \n",
       "132348                     0.0                     52                      52   \n",
       "\n",
       "         Bwd Packet Length Mean   Bwd Packet Length Std  Flow Bytes/s  \\\n",
       "23387                       6.0                     0.0  2.253521e+05   \n",
       "267403                      0.0                     0.0  2.477765e+00   \n",
       "250300                   1932.0                  1755.0  1.222995e+02   \n",
       "520046                      0.0                     0.0  1.467765e-01   \n",
       "132348                     52.0                     0.0  1.066667e+06   \n",
       "\n",
       "         Flow Packets/s   Flow IAT Mean   Flow IAT Std   Flow IAT Max  \\\n",
       "23387      56338.028170    2.366667e+01   2.081666e+00             26   \n",
       "267403         0.412961    3.026922e+06   6.052484e+06       12100000   \n",
       "250300         0.158586    6.726109e+06   2.570000e+07       99500000   \n",
       "520046         0.036694    3.630000e+07   6.290000e+07      109000000   \n",
       "132348     24242.424240    5.500000e+01   5.524491e+01            113   \n",
       "\n",
       "         Flow IAT Min  Fwd IAT Total   Fwd IAT Mean   Fwd IAT Std  \\\n",
       "23387              22             49           49.0           0.0   \n",
       "267403              1       12100000      3026921.8     6052483.5   \n",
       "250300              1      101000000     11200000.0    33100000.0   \n",
       "520046             78      109000000    109000000.0           0.0   \n",
       "132348              3              3            3.0           0.0   \n",
       "\n",
       "         Fwd IAT Max   Fwd IAT Min  Bwd IAT Total   Bwd IAT Mean  \\\n",
       "23387             49            49             48           48.0   \n",
       "267403      12100000             1              0            0.0   \n",
       "250300      99500000             1         357399        71479.8   \n",
       "520046     109000000     109000000      109000000    109000000.0   \n",
       "132348             3             3             49           49.0   \n",
       "\n",
       "         Bwd IAT Std   Bwd IAT Max   Bwd IAT Min  Fwd PSH Flags  \\\n",
       "23387           0.00            48            48              0   \n",
       "267403          0.00             0             0              0   \n",
       "250300     102894.95        223964            16              0   \n",
       "520046          0.00     109000000     109000000              1   \n",
       "132348          0.00            49            49              0   \n",
       "\n",
       "         Bwd PSH Flags   Fwd URG Flags   Bwd URG Flags   Fwd Header Length  \\\n",
       "23387                0               0               0                  48   \n",
       "267403               0               0               0                 100   \n",
       "250300               0               0               0                 336   \n",
       "520046               0               0               0                  64   \n",
       "132348               0               0               0                  64   \n",
       "\n",
       "         Bwd Header Length  Fwd Packets/s   Bwd Packets/s   Min Packet Length  \\\n",
       "23387                   40   28169.014000    28169.014000                   2   \n",
       "267403                   0       0.412961        0.000000                   6   \n",
       "250300                 200       0.099116        0.059470                   0   \n",
       "520046                  64       0.018347        0.018347                   0   \n",
       "132348                  64   12121.212000    12121.212000                  36   \n",
       "\n",
       "         Max Packet Length   Packet Length Mean   Packet Length Std  \\\n",
       "23387                    6                  3.6               2.191   \n",
       "267403                   6                  6.0               0.000   \n",
       "250300                4344                726.0            1349.000   \n",
       "520046                   8                  4.8               4.383   \n",
       "132348                  52                 42.4               8.766   \n",
       "\n",
       "         Packet Length Variance  FIN Flag Count   SYN Flag Count  \\\n",
       "23387                       4.8               0                0   \n",
       "267403                      0.0               0                0   \n",
       "250300                1820333.5               0                0   \n",
       "520046                     19.2               0                1   \n",
       "132348                     76.8               0                0   \n",
       "\n",
       "         RST Flag Count   PSH Flag Count   ACK Flag Count   URG Flag Count  \\\n",
       "23387                 0                1                0                0   \n",
       "267403                0                0                1                0   \n",
       "250300                0                0                1                0   \n",
       "520046                0                0                1                0   \n",
       "132348                0                0                0                0   \n",
       "\n",
       "         CWE Flag Count   ECE Flag Count   Down/Up Ratio  \\\n",
       "23387                 0                0               1   \n",
       "267403                0                0               0   \n",
       "250300                0                0               0   \n",
       "520046                0                0               1   \n",
       "132348                0                0               1   \n",
       "\n",
       "         Average Packet Size   Avg Fwd Segment Size   Avg Bwd Segment Size  \\\n",
       "23387                    4.5                    2.0                    6.0   \n",
       "267403                   7.2                    6.0                    0.0   \n",
       "250300                 771.0                   74.4                 1932.0   \n",
       "520046                   6.0                    8.0                    0.0   \n",
       "132348                  53.0                   36.0                   52.0   \n",
       "\n",
       "         Fwd Header Length.1  Fwd Avg Bytes/Bulk   Fwd Avg Packets/Bulk  \\\n",
       "23387                     48                   0                      0   \n",
       "267403                   100                   0                      0   \n",
       "250300                   336                   0                      0   \n",
       "520046                    64                   0                      0   \n",
       "132348                    64                   0                      0   \n",
       "\n",
       "         Fwd Avg Bulk Rate   Bwd Avg Bytes/Bulk   Bwd Avg Packets/Bulk  \\\n",
       "23387                    0                    0                      0   \n",
       "267403                   0                    0                      0   \n",
       "250300                   0                    0                      0   \n",
       "520046                   0                    0                      0   \n",
       "132348                   0                    0                      0   \n",
       "\n",
       "        Bwd Avg Bulk Rate  Subflow Fwd Packets   Subflow Fwd Bytes  \\\n",
       "23387                   0                    2                   4   \n",
       "267403                  0                    5                  30   \n",
       "250300                  0                   10                 744   \n",
       "520046                  0                    2                  16   \n",
       "132348                  0                    2                  72   \n",
       "\n",
       "         Subflow Bwd Packets   Subflow Bwd Bytes  Init_Win_bytes_forward  \\\n",
       "23387                      2                  12                    1024   \n",
       "267403                     0                   0                     256   \n",
       "250300                     6               11595                     251   \n",
       "520046                     2                   0                     229   \n",
       "132348                     2                 104                      -1   \n",
       "\n",
       "         Init_Win_bytes_backward   act_data_pkt_fwd   min_seg_size_forward  \\\n",
       "23387                          0                  1                     24   \n",
       "267403                        -1                  4                     20   \n",
       "250300                       235                  2                     32   \n",
       "520046                       235                  1                     32   \n",
       "132348                        -1                  1                     32   \n",
       "\n",
       "        Active Mean   Active Std   Active Max   Active Min    Idle Mean  \\\n",
       "23387           0.0          0.0            0            0          0.0   \n",
       "267403       2040.0          0.0         2040         2040   12100000.0   \n",
       "250300         10.0          0.0           10           10   99500000.0   \n",
       "520046         78.0          0.0           78           78  109000000.0   \n",
       "132348          0.0          0.0            0            0          0.0   \n",
       "\n",
       "         Idle Std   Idle Max   Idle Min          Label  \n",
       "23387         0.0          0          0         BENIGN  \n",
       "267403        0.0   12100000   12100000           DDoS  \n",
       "250300        0.0   99500000   99500000       DoS Hulk  \n",
       "520046        0.0  109000000  109000000  DoS slowloris  \n",
       "132348        0.0          0          0         BENIGN  "
      ]
     },
     "execution_count": 145,
     "metadata": {},
     "output_type": "execute_result"
    }
   ],
   "source": [
    "# Посмотрим на табличку\n",
    "df.sample(5)"
   ]
  },
  {
   "cell_type": "code",
   "execution_count": 146,
   "id": "e5f0a24f",
   "metadata": {},
   "outputs": [
    {
     "name": "stdout",
     "output_type": "stream",
     "text": [
      "<class 'pandas.core.frame.DataFrame'>\n",
      "RangeIndex: 539616 entries, 0 to 539615\n",
      "Data columns (total 79 columns):\n",
      " #   Column                        Non-Null Count   Dtype  \n",
      "---  ------                        --------------   -----  \n",
      " 0    Destination Port             539616 non-null  int64  \n",
      " 1    Flow Duration                539616 non-null  int64  \n",
      " 2    Total Fwd Packets            539616 non-null  int64  \n",
      " 3    Total Backward Packets       539616 non-null  int64  \n",
      " 4   Total Length of Fwd Packets   539616 non-null  int64  \n",
      " 5    Total Length of Bwd Packets  539616 non-null  int64  \n",
      " 6    Fwd Packet Length Max        539616 non-null  int64  \n",
      " 7    Fwd Packet Length Min        539616 non-null  int64  \n",
      " 8    Fwd Packet Length Mean       539616 non-null  float64\n",
      " 9    Fwd Packet Length Std        539616 non-null  float64\n",
      " 10  Bwd Packet Length Max         539616 non-null  int64  \n",
      " 11   Bwd Packet Length Min        539616 non-null  int64  \n",
      " 12   Bwd Packet Length Mean       539616 non-null  float64\n",
      " 13   Bwd Packet Length Std        539616 non-null  float64\n",
      " 14  Flow Bytes/s                  539128 non-null  float64\n",
      " 15   Flow Packets/s               539616 non-null  float64\n",
      " 16   Flow IAT Mean                539616 non-null  float64\n",
      " 17   Flow IAT Std                 539616 non-null  float64\n",
      " 18   Flow IAT Max                 539616 non-null  int64  \n",
      " 19   Flow IAT Min                 539616 non-null  int64  \n",
      " 20  Fwd IAT Total                 539616 non-null  int64  \n",
      " 21   Fwd IAT Mean                 539616 non-null  float64\n",
      " 22   Fwd IAT Std                  539616 non-null  float64\n",
      " 23   Fwd IAT Max                  539616 non-null  int64  \n",
      " 24   Fwd IAT Min                  539616 non-null  int64  \n",
      " 25  Bwd IAT Total                 539616 non-null  int64  \n",
      " 26   Bwd IAT Mean                 539616 non-null  float64\n",
      " 27   Bwd IAT Std                  539616 non-null  float64\n",
      " 28   Bwd IAT Max                  539616 non-null  int64  \n",
      " 29   Bwd IAT Min                  539616 non-null  int64  \n",
      " 30  Fwd PSH Flags                 539616 non-null  int64  \n",
      " 31   Bwd PSH Flags                539616 non-null  int64  \n",
      " 32   Fwd URG Flags                539616 non-null  int64  \n",
      " 33   Bwd URG Flags                539616 non-null  int64  \n",
      " 34   Fwd Header Length            539616 non-null  int64  \n",
      " 35   Bwd Header Length            539616 non-null  int64  \n",
      " 36  Fwd Packets/s                 539616 non-null  float64\n",
      " 37   Bwd Packets/s                539616 non-null  float64\n",
      " 38   Min Packet Length            539616 non-null  int64  \n",
      " 39   Max Packet Length            539616 non-null  int64  \n",
      " 40   Packet Length Mean           539616 non-null  float64\n",
      " 41   Packet Length Std            539616 non-null  float64\n",
      " 42   Packet Length Variance       539616 non-null  float64\n",
      " 43  FIN Flag Count                539616 non-null  int64  \n",
      " 44   SYN Flag Count               539616 non-null  int64  \n",
      " 45   RST Flag Count               539616 non-null  int64  \n",
      " 46   PSH Flag Count               539616 non-null  int64  \n",
      " 47   ACK Flag Count               539616 non-null  int64  \n",
      " 48   URG Flag Count               539616 non-null  int64  \n",
      " 49   CWE Flag Count               539616 non-null  int64  \n",
      " 50   ECE Flag Count               539616 non-null  int64  \n",
      " 51   Down/Up Ratio                539616 non-null  int64  \n",
      " 52   Average Packet Size          539616 non-null  float64\n",
      " 53   Avg Fwd Segment Size         539616 non-null  float64\n",
      " 54   Avg Bwd Segment Size         539616 non-null  float64\n",
      " 55   Fwd Header Length.1          539616 non-null  int64  \n",
      " 56  Fwd Avg Bytes/Bulk            539616 non-null  int64  \n",
      " 57   Fwd Avg Packets/Bulk         539616 non-null  int64  \n",
      " 58   Fwd Avg Bulk Rate            539616 non-null  int64  \n",
      " 59   Bwd Avg Bytes/Bulk           539616 non-null  int64  \n",
      " 60   Bwd Avg Packets/Bulk         539616 non-null  int64  \n",
      " 61  Bwd Avg Bulk Rate             539616 non-null  int64  \n",
      " 62  Subflow Fwd Packets           539616 non-null  int64  \n",
      " 63   Subflow Fwd Bytes            539616 non-null  int64  \n",
      " 64   Subflow Bwd Packets          539616 non-null  int64  \n",
      " 65   Subflow Bwd Bytes            539616 non-null  int64  \n",
      " 66  Init_Win_bytes_forward        539616 non-null  int64  \n",
      " 67   Init_Win_bytes_backward      539616 non-null  int64  \n",
      " 68   act_data_pkt_fwd             539616 non-null  int64  \n",
      " 69   min_seg_size_forward         539616 non-null  int64  \n",
      " 70  Active Mean                   539616 non-null  float64\n",
      " 71   Active Std                   539616 non-null  float64\n",
      " 72   Active Max                   539616 non-null  int64  \n",
      " 73   Active Min                   539616 non-null  int64  \n",
      " 74  Idle Mean                     539616 non-null  float64\n",
      " 75   Idle Std                     539616 non-null  float64\n",
      " 76   Idle Max                     539616 non-null  int64  \n",
      " 77   Idle Min                     539616 non-null  int64  \n",
      " 78  Label                         539616 non-null  object \n",
      "dtypes: float64(24), int64(54), object(1)\n",
      "memory usage: 325.2+ MB\n"
     ]
    }
   ],
   "source": [
    "# Выведем информацию о данных\n",
    "df.info()"
   ]
  },
  {
   "cell_type": "code",
   "execution_count": 147,
   "id": "ca3008ff",
   "metadata": {},
   "outputs": [
    {
     "data": {
      "text/html": [
       "<div>\n",
       "<style scoped>\n",
       "    .dataframe tbody tr th:only-of-type {\n",
       "        vertical-align: middle;\n",
       "    }\n",
       "\n",
       "    .dataframe tbody tr th {\n",
       "        vertical-align: top;\n",
       "    }\n",
       "\n",
       "    .dataframe thead th {\n",
       "        text-align: right;\n",
       "    }\n",
       "</style>\n",
       "<table border=\"1\" class=\"dataframe\">\n",
       "  <thead>\n",
       "    <tr style=\"text-align: right;\">\n",
       "      <th></th>\n",
       "      <th>Destination Port</th>\n",
       "      <th>Flow Duration</th>\n",
       "      <th>Total Fwd Packets</th>\n",
       "      <th>Total Backward Packets</th>\n",
       "      <th>Total Length of Fwd Packets</th>\n",
       "      <th>Total Length of Bwd Packets</th>\n",
       "      <th>Fwd Packet Length Max</th>\n",
       "      <th>Fwd Packet Length Min</th>\n",
       "      <th>Fwd Packet Length Mean</th>\n",
       "      <th>Fwd Packet Length Std</th>\n",
       "      <th>Bwd Packet Length Max</th>\n",
       "      <th>Bwd Packet Length Min</th>\n",
       "      <th>Bwd Packet Length Mean</th>\n",
       "      <th>Bwd Packet Length Std</th>\n",
       "      <th>Flow Bytes/s</th>\n",
       "      <th>Flow Packets/s</th>\n",
       "      <th>Flow IAT Mean</th>\n",
       "      <th>Flow IAT Std</th>\n",
       "      <th>Flow IAT Max</th>\n",
       "      <th>Flow IAT Min</th>\n",
       "      <th>Fwd IAT Total</th>\n",
       "      <th>Fwd IAT Mean</th>\n",
       "      <th>Fwd IAT Std</th>\n",
       "      <th>Fwd IAT Max</th>\n",
       "      <th>Fwd IAT Min</th>\n",
       "      <th>Bwd IAT Total</th>\n",
       "      <th>Bwd IAT Mean</th>\n",
       "      <th>Bwd IAT Std</th>\n",
       "      <th>Bwd IAT Max</th>\n",
       "      <th>Bwd IAT Min</th>\n",
       "      <th>Fwd PSH Flags</th>\n",
       "      <th>Bwd PSH Flags</th>\n",
       "      <th>Fwd URG Flags</th>\n",
       "      <th>Bwd URG Flags</th>\n",
       "      <th>Fwd Header Length</th>\n",
       "      <th>Bwd Header Length</th>\n",
       "      <th>Fwd Packets/s</th>\n",
       "      <th>Bwd Packets/s</th>\n",
       "      <th>Min Packet Length</th>\n",
       "      <th>Max Packet Length</th>\n",
       "      <th>Packet Length Mean</th>\n",
       "      <th>Packet Length Std</th>\n",
       "      <th>Packet Length Variance</th>\n",
       "      <th>FIN Flag Count</th>\n",
       "      <th>SYN Flag Count</th>\n",
       "      <th>RST Flag Count</th>\n",
       "      <th>PSH Flag Count</th>\n",
       "      <th>ACK Flag Count</th>\n",
       "      <th>URG Flag Count</th>\n",
       "      <th>CWE Flag Count</th>\n",
       "      <th>ECE Flag Count</th>\n",
       "      <th>Down/Up Ratio</th>\n",
       "      <th>Average Packet Size</th>\n",
       "      <th>Avg Fwd Segment Size</th>\n",
       "      <th>Avg Bwd Segment Size</th>\n",
       "      <th>Fwd Header Length.1</th>\n",
       "      <th>Fwd Avg Bytes/Bulk</th>\n",
       "      <th>Fwd Avg Packets/Bulk</th>\n",
       "      <th>Fwd Avg Bulk Rate</th>\n",
       "      <th>Bwd Avg Bytes/Bulk</th>\n",
       "      <th>Bwd Avg Packets/Bulk</th>\n",
       "      <th>Bwd Avg Bulk Rate</th>\n",
       "      <th>Subflow Fwd Packets</th>\n",
       "      <th>Subflow Fwd Bytes</th>\n",
       "      <th>Subflow Bwd Packets</th>\n",
       "      <th>Subflow Bwd Bytes</th>\n",
       "      <th>Init_Win_bytes_forward</th>\n",
       "      <th>Init_Win_bytes_backward</th>\n",
       "      <th>act_data_pkt_fwd</th>\n",
       "      <th>min_seg_size_forward</th>\n",
       "      <th>Active Mean</th>\n",
       "      <th>Active Std</th>\n",
       "      <th>Active Max</th>\n",
       "      <th>Active Min</th>\n",
       "      <th>Idle Mean</th>\n",
       "      <th>Idle Std</th>\n",
       "      <th>Idle Max</th>\n",
       "      <th>Idle Min</th>\n",
       "    </tr>\n",
       "  </thead>\n",
       "  <tbody>\n",
       "    <tr>\n",
       "      <th>count</th>\n",
       "      <td>539616.000000</td>\n",
       "      <td>5.396160e+05</td>\n",
       "      <td>539616.000000</td>\n",
       "      <td>539616.000000</td>\n",
       "      <td>5.396160e+05</td>\n",
       "      <td>5.396160e+05</td>\n",
       "      <td>539616.000000</td>\n",
       "      <td>539616.000000</td>\n",
       "      <td>539616.000000</td>\n",
       "      <td>539616.000000</td>\n",
       "      <td>539616.000000</td>\n",
       "      <td>539616.000000</td>\n",
       "      <td>539616.000000</td>\n",
       "      <td>539616.000000</td>\n",
       "      <td>5.391280e+05</td>\n",
       "      <td>5.396160e+05</td>\n",
       "      <td>5.396160e+05</td>\n",
       "      <td>5.396160e+05</td>\n",
       "      <td>5.396160e+05</td>\n",
       "      <td>5.396160e+05</td>\n",
       "      <td>5.396160e+05</td>\n",
       "      <td>5.396160e+05</td>\n",
       "      <td>5.396160e+05</td>\n",
       "      <td>5.396160e+05</td>\n",
       "      <td>5.396160e+05</td>\n",
       "      <td>5.396160e+05</td>\n",
       "      <td>5.396160e+05</td>\n",
       "      <td>5.396160e+05</td>\n",
       "      <td>5.396160e+05</td>\n",
       "      <td>5.396160e+05</td>\n",
       "      <td>539616.000000</td>\n",
       "      <td>539616.0</td>\n",
       "      <td>539616.000000</td>\n",
       "      <td>539616.0</td>\n",
       "      <td>5.396160e+05</td>\n",
       "      <td>5.396160e+05</td>\n",
       "      <td>5.396160e+05</td>\n",
       "      <td>5.396160e+05</td>\n",
       "      <td>539616.000000</td>\n",
       "      <td>539616.000000</td>\n",
       "      <td>539616.000000</td>\n",
       "      <td>539616.000000</td>\n",
       "      <td>5.396160e+05</td>\n",
       "      <td>539616.000000</td>\n",
       "      <td>539616.000000</td>\n",
       "      <td>539616.000000</td>\n",
       "      <td>539616.000000</td>\n",
       "      <td>539616.000000</td>\n",
       "      <td>539616.000000</td>\n",
       "      <td>539616.000000</td>\n",
       "      <td>539616.000000</td>\n",
       "      <td>539616.000000</td>\n",
       "      <td>539616.000000</td>\n",
       "      <td>539616.000000</td>\n",
       "      <td>539616.000000</td>\n",
       "      <td>5.396160e+05</td>\n",
       "      <td>539616.0</td>\n",
       "      <td>539616.0</td>\n",
       "      <td>539616.0</td>\n",
       "      <td>539616.0</td>\n",
       "      <td>539616.0</td>\n",
       "      <td>539616.0</td>\n",
       "      <td>539616.000000</td>\n",
       "      <td>5.396160e+05</td>\n",
       "      <td>539616.000000</td>\n",
       "      <td>5.396160e+05</td>\n",
       "      <td>539616.000000</td>\n",
       "      <td>539616.000000</td>\n",
       "      <td>539616.000000</td>\n",
       "      <td>5.396160e+05</td>\n",
       "      <td>5.396160e+05</td>\n",
       "      <td>5.396160e+05</td>\n",
       "      <td>5.396160e+05</td>\n",
       "      <td>5.396160e+05</td>\n",
       "      <td>5.396160e+05</td>\n",
       "      <td>5.396160e+05</td>\n",
       "      <td>5.396160e+05</td>\n",
       "      <td>5.396160e+05</td>\n",
       "    </tr>\n",
       "    <tr>\n",
       "      <th>mean</th>\n",
       "      <td>5563.061394</td>\n",
       "      <td>2.106693e+07</td>\n",
       "      <td>6.119972</td>\n",
       "      <td>5.985495</td>\n",
       "      <td>4.082371e+02</td>\n",
       "      <td>7.999779e+03</td>\n",
       "      <td>169.449966</td>\n",
       "      <td>11.855382</td>\n",
       "      <td>44.681011</td>\n",
       "      <td>59.525095</td>\n",
       "      <td>1675.074384</td>\n",
       "      <td>23.508936</td>\n",
       "      <td>550.037006</td>\n",
       "      <td>697.306414</td>\n",
       "      <td>inf</td>\n",
       "      <td>inf</td>\n",
       "      <td>2.134902e+06</td>\n",
       "      <td>5.264535e+06</td>\n",
       "      <td>1.731840e+07</td>\n",
       "      <td>2.945584e+05</td>\n",
       "      <td>2.075634e+07</td>\n",
       "      <td>4.036797e+06</td>\n",
       "      <td>6.666492e+06</td>\n",
       "      <td>1.720041e+07</td>\n",
       "      <td>1.035760e+06</td>\n",
       "      <td>9.601754e+06</td>\n",
       "      <td>2.028745e+06</td>\n",
       "      <td>2.413091e+06</td>\n",
       "      <td>6.464188e+06</td>\n",
       "      <td>8.147788e+05</td>\n",
       "      <td>0.036747</td>\n",
       "      <td>0.0</td>\n",
       "      <td>0.000056</td>\n",
       "      <td>0.0</td>\n",
       "      <td>-4.593957e+03</td>\n",
       "      <td>-4.290450e+03</td>\n",
       "      <td>7.142149e+04</td>\n",
       "      <td>7.885307e+03</td>\n",
       "      <td>9.609552</td>\n",
       "      <td>1723.695630</td>\n",
       "      <td>276.581177</td>\n",
       "      <td>544.090932</td>\n",
       "      <td>1.112688e+06</td>\n",
       "      <td>0.062524</td>\n",
       "      <td>0.036747</td>\n",
       "      <td>0.000120</td>\n",
       "      <td>0.377765</td>\n",
       "      <td>0.365884</td>\n",
       "      <td>0.060567</td>\n",
       "      <td>0.000056</td>\n",
       "      <td>0.000120</td>\n",
       "      <td>0.643446</td>\n",
       "      <td>305.358765</td>\n",
       "      <td>44.681011</td>\n",
       "      <td>550.037006</td>\n",
       "      <td>-4.593957e+03</td>\n",
       "      <td>0.0</td>\n",
       "      <td>0.0</td>\n",
       "      <td>0.0</td>\n",
       "      <td>0.0</td>\n",
       "      <td>0.0</td>\n",
       "      <td>0.0</td>\n",
       "      <td>6.119972</td>\n",
       "      <td>4.082371e+02</td>\n",
       "      <td>5.985495</td>\n",
       "      <td>7.998768e+03</td>\n",
       "      <td>7564.762311</td>\n",
       "      <td>1277.937053</td>\n",
       "      <td>2.946516</td>\n",
       "      <td>-2.429314e+03</td>\n",
       "      <td>1.154984e+05</td>\n",
       "      <td>4.037570e+04</td>\n",
       "      <td>1.672882e+05</td>\n",
       "      <td>8.983017e+04</td>\n",
       "      <td>1.610155e+07</td>\n",
       "      <td>9.585649e+05</td>\n",
       "      <td>1.687227e+07</td>\n",
       "      <td>1.539150e+07</td>\n",
       "    </tr>\n",
       "    <tr>\n",
       "      <th>std</th>\n",
       "      <td>14921.262751</td>\n",
       "      <td>3.812172e+07</td>\n",
       "      <td>345.109317</td>\n",
       "      <td>463.490949</td>\n",
       "      <td>7.478351e+03</td>\n",
       "      <td>1.014442e+06</td>\n",
       "      <td>560.533869</td>\n",
       "      <td>60.961661</td>\n",
       "      <td>150.873880</td>\n",
       "      <td>217.729412</td>\n",
       "      <td>2843.534429</td>\n",
       "      <td>55.198582</td>\n",
       "      <td>869.702147</td>\n",
       "      <td>1255.312166</td>\n",
       "      <td>NaN</td>\n",
       "      <td>NaN</td>\n",
       "      <td>5.824585e+06</td>\n",
       "      <td>1.055110e+07</td>\n",
       "      <td>3.395701e+07</td>\n",
       "      <td>4.269410e+06</td>\n",
       "      <td>3.812106e+07</td>\n",
       "      <td>1.062759e+07</td>\n",
       "      <td>1.391409e+07</td>\n",
       "      <td>3.402154e+07</td>\n",
       "      <td>8.949951e+06</td>\n",
       "      <td>2.807218e+07</td>\n",
       "      <td>9.045625e+06</td>\n",
       "      <td>8.975673e+06</td>\n",
       "      <td>2.192197e+07</td>\n",
       "      <td>7.698887e+06</td>\n",
       "      <td>0.188139</td>\n",
       "      <td>0.0</td>\n",
       "      <td>0.007456</td>\n",
       "      <td>0.0</td>\n",
       "      <td>2.095355e+06</td>\n",
       "      <td>2.076610e+06</td>\n",
       "      <td>2.685287e+05</td>\n",
       "      <td>3.847268e+04</td>\n",
       "      <td>21.551058</td>\n",
       "      <td>2862.902929</td>\n",
       "      <td>416.169617</td>\n",
       "      <td>903.656284</td>\n",
       "      <td>2.468134e+06</td>\n",
       "      <td>0.242105</td>\n",
       "      <td>0.188139</td>\n",
       "      <td>0.010975</td>\n",
       "      <td>0.484829</td>\n",
       "      <td>0.481678</td>\n",
       "      <td>0.238535</td>\n",
       "      <td>0.007456</td>\n",
       "      <td>0.010975</td>\n",
       "      <td>0.634460</td>\n",
       "      <td>457.152955</td>\n",
       "      <td>150.873880</td>\n",
       "      <td>869.702147</td>\n",
       "      <td>2.095355e+06</td>\n",
       "      <td>0.0</td>\n",
       "      <td>0.0</td>\n",
       "      <td>0.0</td>\n",
       "      <td>0.0</td>\n",
       "      <td>0.0</td>\n",
       "      <td>0.0</td>\n",
       "      <td>345.109317</td>\n",
       "      <td>7.478351e+03</td>\n",
       "      <td>463.490949</td>\n",
       "      <td>1.013814e+06</td>\n",
       "      <td>13440.653528</td>\n",
       "      <td>6590.247532</td>\n",
       "      <td>267.510434</td>\n",
       "      <td>1.052329e+06</td>\n",
       "      <td>7.787530e+05</td>\n",
       "      <td>4.347032e+05</td>\n",
       "      <td>1.059626e+06</td>\n",
       "      <td>7.099710e+05</td>\n",
       "      <td>3.315463e+07</td>\n",
       "      <td>6.461275e+06</td>\n",
       "      <td>3.403851e+07</td>\n",
       "      <td>3.295695e+07</td>\n",
       "    </tr>\n",
       "    <tr>\n",
       "      <th>min</th>\n",
       "      <td>0.000000</td>\n",
       "      <td>-1.200000e+01</td>\n",
       "      <td>1.000000</td>\n",
       "      <td>0.000000</td>\n",
       "      <td>0.000000e+00</td>\n",
       "      <td>0.000000e+00</td>\n",
       "      <td>0.000000</td>\n",
       "      <td>0.000000</td>\n",
       "      <td>0.000000</td>\n",
       "      <td>0.000000</td>\n",
       "      <td>0.000000</td>\n",
       "      <td>0.000000</td>\n",
       "      <td>0.000000</td>\n",
       "      <td>0.000000</td>\n",
       "      <td>-1.200000e+07</td>\n",
       "      <td>-2.000000e+06</td>\n",
       "      <td>-1.200000e+01</td>\n",
       "      <td>0.000000e+00</td>\n",
       "      <td>-1.200000e+01</td>\n",
       "      <td>-1.300000e+01</td>\n",
       "      <td>0.000000e+00</td>\n",
       "      <td>0.000000e+00</td>\n",
       "      <td>0.000000e+00</td>\n",
       "      <td>0.000000e+00</td>\n",
       "      <td>-1.200000e+01</td>\n",
       "      <td>0.000000e+00</td>\n",
       "      <td>0.000000e+00</td>\n",
       "      <td>0.000000e+00</td>\n",
       "      <td>0.000000e+00</td>\n",
       "      <td>0.000000e+00</td>\n",
       "      <td>0.000000</td>\n",
       "      <td>0.0</td>\n",
       "      <td>0.000000</td>\n",
       "      <td>0.0</td>\n",
       "      <td>-1.073741e+09</td>\n",
       "      <td>-1.073741e+09</td>\n",
       "      <td>0.000000e+00</td>\n",
       "      <td>0.000000e+00</td>\n",
       "      <td>0.000000</td>\n",
       "      <td>0.000000</td>\n",
       "      <td>0.000000</td>\n",
       "      <td>0.000000</td>\n",
       "      <td>0.000000e+00</td>\n",
       "      <td>0.000000</td>\n",
       "      <td>0.000000</td>\n",
       "      <td>0.000000</td>\n",
       "      <td>0.000000</td>\n",
       "      <td>0.000000</td>\n",
       "      <td>0.000000</td>\n",
       "      <td>0.000000</td>\n",
       "      <td>0.000000</td>\n",
       "      <td>0.000000</td>\n",
       "      <td>0.000000</td>\n",
       "      <td>0.000000</td>\n",
       "      <td>0.000000</td>\n",
       "      <td>-1.073741e+09</td>\n",
       "      <td>0.0</td>\n",
       "      <td>0.0</td>\n",
       "      <td>0.0</td>\n",
       "      <td>0.0</td>\n",
       "      <td>0.0</td>\n",
       "      <td>0.0</td>\n",
       "      <td>1.000000</td>\n",
       "      <td>0.000000e+00</td>\n",
       "      <td>0.000000</td>\n",
       "      <td>0.000000e+00</td>\n",
       "      <td>-1.000000</td>\n",
       "      <td>-1.000000</td>\n",
       "      <td>0.000000</td>\n",
       "      <td>-5.368707e+08</td>\n",
       "      <td>0.000000e+00</td>\n",
       "      <td>0.000000e+00</td>\n",
       "      <td>0.000000e+00</td>\n",
       "      <td>0.000000e+00</td>\n",
       "      <td>0.000000e+00</td>\n",
       "      <td>0.000000e+00</td>\n",
       "      <td>0.000000e+00</td>\n",
       "      <td>0.000000e+00</td>\n",
       "    </tr>\n",
       "    <tr>\n",
       "      <th>25%</th>\n",
       "      <td>80.000000</td>\n",
       "      <td>7.300000e+01</td>\n",
       "      <td>1.000000</td>\n",
       "      <td>1.000000</td>\n",
       "      <td>2.000000e+00</td>\n",
       "      <td>0.000000e+00</td>\n",
       "      <td>2.000000</td>\n",
       "      <td>0.000000</td>\n",
       "      <td>2.000000</td>\n",
       "      <td>0.000000</td>\n",
       "      <td>0.000000</td>\n",
       "      <td>0.000000</td>\n",
       "      <td>0.000000</td>\n",
       "      <td>0.000000</td>\n",
       "      <td>1.020400e+02</td>\n",
       "      <td>7.323267e-01</td>\n",
       "      <td>5.900000e+01</td>\n",
       "      <td>0.000000e+00</td>\n",
       "      <td>7.100000e+01</td>\n",
       "      <td>3.000000e+00</td>\n",
       "      <td>0.000000e+00</td>\n",
       "      <td>0.000000e+00</td>\n",
       "      <td>0.000000e+00</td>\n",
       "      <td>0.000000e+00</td>\n",
       "      <td>0.000000e+00</td>\n",
       "      <td>0.000000e+00</td>\n",
       "      <td>0.000000e+00</td>\n",
       "      <td>0.000000e+00</td>\n",
       "      <td>0.000000e+00</td>\n",
       "      <td>0.000000e+00</td>\n",
       "      <td>0.000000</td>\n",
       "      <td>0.0</td>\n",
       "      <td>0.000000</td>\n",
       "      <td>0.0</td>\n",
       "      <td>4.000000e+01</td>\n",
       "      <td>2.000000e+01</td>\n",
       "      <td>5.300676e-01</td>\n",
       "      <td>6.027621e-02</td>\n",
       "      <td>0.000000</td>\n",
       "      <td>6.000000</td>\n",
       "      <td>3.334000</td>\n",
       "      <td>2.191000</td>\n",
       "      <td>4.800000e+00</td>\n",
       "      <td>0.000000</td>\n",
       "      <td>0.000000</td>\n",
       "      <td>0.000000</td>\n",
       "      <td>0.000000</td>\n",
       "      <td>0.000000</td>\n",
       "      <td>0.000000</td>\n",
       "      <td>0.000000</td>\n",
       "      <td>0.000000</td>\n",
       "      <td>0.000000</td>\n",
       "      <td>5.000000</td>\n",
       "      <td>2.000000</td>\n",
       "      <td>0.000000</td>\n",
       "      <td>4.000000e+01</td>\n",
       "      <td>0.0</td>\n",
       "      <td>0.0</td>\n",
       "      <td>0.0</td>\n",
       "      <td>0.0</td>\n",
       "      <td>0.0</td>\n",
       "      <td>0.0</td>\n",
       "      <td>1.000000</td>\n",
       "      <td>2.000000e+00</td>\n",
       "      <td>1.000000</td>\n",
       "      <td>0.000000e+00</td>\n",
       "      <td>0.000000</td>\n",
       "      <td>-1.000000</td>\n",
       "      <td>0.000000</td>\n",
       "      <td>2.000000e+01</td>\n",
       "      <td>0.000000e+00</td>\n",
       "      <td>0.000000e+00</td>\n",
       "      <td>0.000000e+00</td>\n",
       "      <td>0.000000e+00</td>\n",
       "      <td>0.000000e+00</td>\n",
       "      <td>0.000000e+00</td>\n",
       "      <td>0.000000e+00</td>\n",
       "      <td>0.000000e+00</td>\n",
       "    </tr>\n",
       "    <tr>\n",
       "      <th>50%</th>\n",
       "      <td>80.000000</td>\n",
       "      <td>4.973900e+04</td>\n",
       "      <td>2.000000</td>\n",
       "      <td>2.000000</td>\n",
       "      <td>4.400000e+01</td>\n",
       "      <td>1.050000e+02</td>\n",
       "      <td>23.000000</td>\n",
       "      <td>0.000000</td>\n",
       "      <td>11.220000</td>\n",
       "      <td>0.000000</td>\n",
       "      <td>60.000000</td>\n",
       "      <td>0.000000</td>\n",
       "      <td>54.000000</td>\n",
       "      <td>0.000000</td>\n",
       "      <td>2.263827e+03</td>\n",
       "      <td>8.192189e+01</td>\n",
       "      <td>1.700058e+04</td>\n",
       "      <td>1.094470e+04</td>\n",
       "      <td>4.257200e+04</td>\n",
       "      <td>5.000000e+00</td>\n",
       "      <td>4.820000e+02</td>\n",
       "      <td>2.710000e+02</td>\n",
       "      <td>0.000000e+00</td>\n",
       "      <td>4.390000e+02</td>\n",
       "      <td>3.000000e+00</td>\n",
       "      <td>3.000000e+00</td>\n",
       "      <td>3.000000e+00</td>\n",
       "      <td>0.000000e+00</td>\n",
       "      <td>3.000000e+00</td>\n",
       "      <td>1.000000e+00</td>\n",
       "      <td>0.000000</td>\n",
       "      <td>0.0</td>\n",
       "      <td>0.000000</td>\n",
       "      <td>0.0</td>\n",
       "      <td>6.400000e+01</td>\n",
       "      <td>4.000000e+01</td>\n",
       "      <td>4.091611e+01</td>\n",
       "      <td>4.985905e+00</td>\n",
       "      <td>0.000000</td>\n",
       "      <td>71.000000</td>\n",
       "      <td>50.800000</td>\n",
       "      <td>18.860000</td>\n",
       "      <td>3.559524e+02</td>\n",
       "      <td>0.000000</td>\n",
       "      <td>0.000000</td>\n",
       "      <td>0.000000</td>\n",
       "      <td>0.000000</td>\n",
       "      <td>0.000000</td>\n",
       "      <td>0.000000</td>\n",
       "      <td>0.000000</td>\n",
       "      <td>0.000000</td>\n",
       "      <td>1.000000</td>\n",
       "      <td>64.500000</td>\n",
       "      <td>11.220000</td>\n",
       "      <td>54.000000</td>\n",
       "      <td>6.400000e+01</td>\n",
       "      <td>0.0</td>\n",
       "      <td>0.0</td>\n",
       "      <td>0.0</td>\n",
       "      <td>0.0</td>\n",
       "      <td>0.0</td>\n",
       "      <td>0.0</td>\n",
       "      <td>2.000000</td>\n",
       "      <td>4.400000e+01</td>\n",
       "      <td>2.000000</td>\n",
       "      <td>1.050000e+02</td>\n",
       "      <td>274.000000</td>\n",
       "      <td>0.000000</td>\n",
       "      <td>1.000000</td>\n",
       "      <td>2.400000e+01</td>\n",
       "      <td>0.000000e+00</td>\n",
       "      <td>0.000000e+00</td>\n",
       "      <td>0.000000e+00</td>\n",
       "      <td>0.000000e+00</td>\n",
       "      <td>0.000000e+00</td>\n",
       "      <td>0.000000e+00</td>\n",
       "      <td>0.000000e+00</td>\n",
       "      <td>0.000000e+00</td>\n",
       "    </tr>\n",
       "    <tr>\n",
       "      <th>75%</th>\n",
       "      <td>443.000000</td>\n",
       "      <td>1.064030e+07</td>\n",
       "      <td>6.000000</td>\n",
       "      <td>5.000000</td>\n",
       "      <td>3.200000e+02</td>\n",
       "      <td>8.216250e+03</td>\n",
       "      <td>272.000000</td>\n",
       "      <td>6.000000</td>\n",
       "      <td>48.560000</td>\n",
       "      <td>91.700000</td>\n",
       "      <td>2796.000000</td>\n",
       "      <td>6.000000</td>\n",
       "      <td>824.500000</td>\n",
       "      <td>835.500000</td>\n",
       "      <td>1.250000e+05</td>\n",
       "      <td>2.898551e+04</td>\n",
       "      <td>1.734361e+06</td>\n",
       "      <td>3.073642e+06</td>\n",
       "      <td>8.020226e+06</td>\n",
       "      <td>5.400000e+01</td>\n",
       "      <td>8.699966e+06</td>\n",
       "      <td>2.153087e+06</td>\n",
       "      <td>2.907944e+06</td>\n",
       "      <td>7.341524e+06</td>\n",
       "      <td>4.900000e+01</td>\n",
       "      <td>1.518742e+05</td>\n",
       "      <td>3.309985e+04</td>\n",
       "      <td>5.844452e+04</td>\n",
       "      <td>1.364675e+05</td>\n",
       "      <td>4.600000e+01</td>\n",
       "      <td>0.000000</td>\n",
       "      <td>0.0</td>\n",
       "      <td>0.000000</td>\n",
       "      <td>0.0</td>\n",
       "      <td>1.640000e+02</td>\n",
       "      <td>1.360000e+02</td>\n",
       "      <td>1.470588e+04</td>\n",
       "      <td>8.695652e+03</td>\n",
       "      <td>6.000000</td>\n",
       "      <td>2896.000000</td>\n",
       "      <td>484.575000</td>\n",
       "      <td>812.500000</td>\n",
       "      <td>6.598776e+05</td>\n",
       "      <td>0.000000</td>\n",
       "      <td>0.000000</td>\n",
       "      <td>0.000000</td>\n",
       "      <td>1.000000</td>\n",
       "      <td>1.000000</td>\n",
       "      <td>0.000000</td>\n",
       "      <td>0.000000</td>\n",
       "      <td>0.000000</td>\n",
       "      <td>1.000000</td>\n",
       "      <td>523.000000</td>\n",
       "      <td>48.560000</td>\n",
       "      <td>824.500000</td>\n",
       "      <td>1.640000e+02</td>\n",
       "      <td>0.0</td>\n",
       "      <td>0.0</td>\n",
       "      <td>0.0</td>\n",
       "      <td>0.0</td>\n",
       "      <td>0.0</td>\n",
       "      <td>0.0</td>\n",
       "      <td>6.000000</td>\n",
       "      <td>3.200000e+02</td>\n",
       "      <td>5.000000</td>\n",
       "      <td>8.216250e+03</td>\n",
       "      <td>8192.000000</td>\n",
       "      <td>235.000000</td>\n",
       "      <td>2.000000</td>\n",
       "      <td>3.200000e+01</td>\n",
       "      <td>6.000000e+00</td>\n",
       "      <td>0.000000e+00</td>\n",
       "      <td>6.000000e+00</td>\n",
       "      <td>5.000000e+00</td>\n",
       "      <td>7.125041e+06</td>\n",
       "      <td>0.000000e+00</td>\n",
       "      <td>7.143036e+06</td>\n",
       "      <td>6.028677e+06</td>\n",
       "    </tr>\n",
       "    <tr>\n",
       "      <th>max</th>\n",
       "      <td>65533.000000</td>\n",
       "      <td>1.200000e+08</td>\n",
       "      <td>200755.000000</td>\n",
       "      <td>270686.000000</td>\n",
       "      <td>2.866110e+06</td>\n",
       "      <td>5.910000e+08</td>\n",
       "      <td>24820.000000</td>\n",
       "      <td>2065.000000</td>\n",
       "      <td>5940.000000</td>\n",
       "      <td>7050.000000</td>\n",
       "      <td>17376.000000</td>\n",
       "      <td>2042.000000</td>\n",
       "      <td>5800.000000</td>\n",
       "      <td>8190.000000</td>\n",
       "      <td>inf</td>\n",
       "      <td>inf</td>\n",
       "      <td>1.200000e+08</td>\n",
       "      <td>8.470000e+07</td>\n",
       "      <td>1.200000e+08</td>\n",
       "      <td>1.200000e+08</td>\n",
       "      <td>1.200000e+08</td>\n",
       "      <td>1.200000e+08</td>\n",
       "      <td>8.320000e+07</td>\n",
       "      <td>1.200000e+08</td>\n",
       "      <td>1.200000e+08</td>\n",
       "      <td>1.200000e+08</td>\n",
       "      <td>1.200000e+08</td>\n",
       "      <td>8.170000e+07</td>\n",
       "      <td>1.200000e+08</td>\n",
       "      <td>1.200000e+08</td>\n",
       "      <td>1.000000</td>\n",
       "      <td>0.0</td>\n",
       "      <td>1.000000</td>\n",
       "      <td>0.0</td>\n",
       "      <td>4.173072e+06</td>\n",
       "      <td>5.413720e+06</td>\n",
       "      <td>3.000000e+06</td>\n",
       "      <td>2.000000e+06</td>\n",
       "      <td>1330.000000</td>\n",
       "      <td>24820.000000</td>\n",
       "      <td>2160.000000</td>\n",
       "      <td>4732.000000</td>\n",
       "      <td>2.240000e+07</td>\n",
       "      <td>1.000000</td>\n",
       "      <td>1.000000</td>\n",
       "      <td>1.000000</td>\n",
       "      <td>1.000000</td>\n",
       "      <td>1.000000</td>\n",
       "      <td>1.000000</td>\n",
       "      <td>1.000000</td>\n",
       "      <td>1.000000</td>\n",
       "      <td>29.000000</td>\n",
       "      <td>2508.000000</td>\n",
       "      <td>5940.000000</td>\n",
       "      <td>5800.000000</td>\n",
       "      <td>4.173072e+06</td>\n",
       "      <td>0.0</td>\n",
       "      <td>0.0</td>\n",
       "      <td>0.0</td>\n",
       "      <td>0.0</td>\n",
       "      <td>0.0</td>\n",
       "      <td>0.0</td>\n",
       "      <td>200755.000000</td>\n",
       "      <td>2.866110e+06</td>\n",
       "      <td>270686.000000</td>\n",
       "      <td>5.905961e+08</td>\n",
       "      <td>65535.000000</td>\n",
       "      <td>65535.000000</td>\n",
       "      <td>192491.000000</td>\n",
       "      <td>1.380000e+02</td>\n",
       "      <td>1.020000e+08</td>\n",
       "      <td>6.350000e+07</td>\n",
       "      <td>1.020000e+08</td>\n",
       "      <td>1.020000e+08</td>\n",
       "      <td>1.200000e+08</td>\n",
       "      <td>7.690000e+07</td>\n",
       "      <td>1.200000e+08</td>\n",
       "      <td>1.200000e+08</td>\n",
       "    </tr>\n",
       "  </tbody>\n",
       "</table>\n",
       "</div>"
      ],
      "text/plain": [
       "        Destination Port   Flow Duration   Total Fwd Packets  \\\n",
       "count      539616.000000    5.396160e+05       539616.000000   \n",
       "mean         5563.061394    2.106693e+07            6.119972   \n",
       "std         14921.262751    3.812172e+07          345.109317   \n",
       "min             0.000000   -1.200000e+01            1.000000   \n",
       "25%            80.000000    7.300000e+01            1.000000   \n",
       "50%            80.000000    4.973900e+04            2.000000   \n",
       "75%           443.000000    1.064030e+07            6.000000   \n",
       "max         65533.000000    1.200000e+08       200755.000000   \n",
       "\n",
       "        Total Backward Packets  Total Length of Fwd Packets  \\\n",
       "count            539616.000000                 5.396160e+05   \n",
       "mean                  5.985495                 4.082371e+02   \n",
       "std                 463.490949                 7.478351e+03   \n",
       "min                   0.000000                 0.000000e+00   \n",
       "25%                   1.000000                 2.000000e+00   \n",
       "50%                   2.000000                 4.400000e+01   \n",
       "75%                   5.000000                 3.200000e+02   \n",
       "max              270686.000000                 2.866110e+06   \n",
       "\n",
       "        Total Length of Bwd Packets   Fwd Packet Length Max  \\\n",
       "count                  5.396160e+05           539616.000000   \n",
       "mean                   7.999779e+03              169.449966   \n",
       "std                    1.014442e+06              560.533869   \n",
       "min                    0.000000e+00                0.000000   \n",
       "25%                    0.000000e+00                2.000000   \n",
       "50%                    1.050000e+02               23.000000   \n",
       "75%                    8.216250e+03              272.000000   \n",
       "max                    5.910000e+08            24820.000000   \n",
       "\n",
       "        Fwd Packet Length Min   Fwd Packet Length Mean  \\\n",
       "count           539616.000000            539616.000000   \n",
       "mean                11.855382                44.681011   \n",
       "std                 60.961661               150.873880   \n",
       "min                  0.000000                 0.000000   \n",
       "25%                  0.000000                 2.000000   \n",
       "50%                  0.000000                11.220000   \n",
       "75%                  6.000000                48.560000   \n",
       "max               2065.000000              5940.000000   \n",
       "\n",
       "        Fwd Packet Length Std  Bwd Packet Length Max   Bwd Packet Length Min  \\\n",
       "count           539616.000000          539616.000000           539616.000000   \n",
       "mean                59.525095            1675.074384               23.508936   \n",
       "std                217.729412            2843.534429               55.198582   \n",
       "min                  0.000000               0.000000                0.000000   \n",
       "25%                  0.000000               0.000000                0.000000   \n",
       "50%                  0.000000              60.000000                0.000000   \n",
       "75%                 91.700000            2796.000000                6.000000   \n",
       "max               7050.000000           17376.000000             2042.000000   \n",
       "\n",
       "        Bwd Packet Length Mean   Bwd Packet Length Std  Flow Bytes/s  \\\n",
       "count            539616.000000           539616.000000  5.391280e+05   \n",
       "mean                550.037006              697.306414           inf   \n",
       "std                 869.702147             1255.312166           NaN   \n",
       "min                   0.000000                0.000000 -1.200000e+07   \n",
       "25%                   0.000000                0.000000  1.020400e+02   \n",
       "50%                  54.000000                0.000000  2.263827e+03   \n",
       "75%                 824.500000              835.500000  1.250000e+05   \n",
       "max                5800.000000             8190.000000           inf   \n",
       "\n",
       "        Flow Packets/s   Flow IAT Mean   Flow IAT Std   Flow IAT Max  \\\n",
       "count     5.396160e+05    5.396160e+05   5.396160e+05   5.396160e+05   \n",
       "mean               inf    2.134902e+06   5.264535e+06   1.731840e+07   \n",
       "std                NaN    5.824585e+06   1.055110e+07   3.395701e+07   \n",
       "min      -2.000000e+06   -1.200000e+01   0.000000e+00  -1.200000e+01   \n",
       "25%       7.323267e-01    5.900000e+01   0.000000e+00   7.100000e+01   \n",
       "50%       8.192189e+01    1.700058e+04   1.094470e+04   4.257200e+04   \n",
       "75%       2.898551e+04    1.734361e+06   3.073642e+06   8.020226e+06   \n",
       "max                inf    1.200000e+08   8.470000e+07   1.200000e+08   \n",
       "\n",
       "        Flow IAT Min  Fwd IAT Total   Fwd IAT Mean   Fwd IAT Std  \\\n",
       "count   5.396160e+05   5.396160e+05   5.396160e+05  5.396160e+05   \n",
       "mean    2.945584e+05   2.075634e+07   4.036797e+06  6.666492e+06   \n",
       "std     4.269410e+06   3.812106e+07   1.062759e+07  1.391409e+07   \n",
       "min    -1.300000e+01   0.000000e+00   0.000000e+00  0.000000e+00   \n",
       "25%     3.000000e+00   0.000000e+00   0.000000e+00  0.000000e+00   \n",
       "50%     5.000000e+00   4.820000e+02   2.710000e+02  0.000000e+00   \n",
       "75%     5.400000e+01   8.699966e+06   2.153087e+06  2.907944e+06   \n",
       "max     1.200000e+08   1.200000e+08   1.200000e+08  8.320000e+07   \n",
       "\n",
       "        Fwd IAT Max   Fwd IAT Min  Bwd IAT Total   Bwd IAT Mean   Bwd IAT Std  \\\n",
       "count  5.396160e+05  5.396160e+05   5.396160e+05   5.396160e+05  5.396160e+05   \n",
       "mean   1.720041e+07  1.035760e+06   9.601754e+06   2.028745e+06  2.413091e+06   \n",
       "std    3.402154e+07  8.949951e+06   2.807218e+07   9.045625e+06  8.975673e+06   \n",
       "min    0.000000e+00 -1.200000e+01   0.000000e+00   0.000000e+00  0.000000e+00   \n",
       "25%    0.000000e+00  0.000000e+00   0.000000e+00   0.000000e+00  0.000000e+00   \n",
       "50%    4.390000e+02  3.000000e+00   3.000000e+00   3.000000e+00  0.000000e+00   \n",
       "75%    7.341524e+06  4.900000e+01   1.518742e+05   3.309985e+04  5.844452e+04   \n",
       "max    1.200000e+08  1.200000e+08   1.200000e+08   1.200000e+08  8.170000e+07   \n",
       "\n",
       "        Bwd IAT Max   Bwd IAT Min  Fwd PSH Flags   Bwd PSH Flags  \\\n",
       "count  5.396160e+05  5.396160e+05  539616.000000        539616.0   \n",
       "mean   6.464188e+06  8.147788e+05       0.036747             0.0   \n",
       "std    2.192197e+07  7.698887e+06       0.188139             0.0   \n",
       "min    0.000000e+00  0.000000e+00       0.000000             0.0   \n",
       "25%    0.000000e+00  0.000000e+00       0.000000             0.0   \n",
       "50%    3.000000e+00  1.000000e+00       0.000000             0.0   \n",
       "75%    1.364675e+05  4.600000e+01       0.000000             0.0   \n",
       "max    1.200000e+08  1.200000e+08       1.000000             0.0   \n",
       "\n",
       "        Fwd URG Flags   Bwd URG Flags   Fwd Header Length   Bwd Header Length  \\\n",
       "count   539616.000000        539616.0        5.396160e+05        5.396160e+05   \n",
       "mean         0.000056             0.0       -4.593957e+03       -4.290450e+03   \n",
       "std          0.007456             0.0        2.095355e+06        2.076610e+06   \n",
       "min          0.000000             0.0       -1.073741e+09       -1.073741e+09   \n",
       "25%          0.000000             0.0        4.000000e+01        2.000000e+01   \n",
       "50%          0.000000             0.0        6.400000e+01        4.000000e+01   \n",
       "75%          0.000000             0.0        1.640000e+02        1.360000e+02   \n",
       "max          1.000000             0.0        4.173072e+06        5.413720e+06   \n",
       "\n",
       "       Fwd Packets/s   Bwd Packets/s   Min Packet Length   Max Packet Length  \\\n",
       "count   5.396160e+05    5.396160e+05       539616.000000       539616.000000   \n",
       "mean    7.142149e+04    7.885307e+03            9.609552         1723.695630   \n",
       "std     2.685287e+05    3.847268e+04           21.551058         2862.902929   \n",
       "min     0.000000e+00    0.000000e+00            0.000000            0.000000   \n",
       "25%     5.300676e-01    6.027621e-02            0.000000            6.000000   \n",
       "50%     4.091611e+01    4.985905e+00            0.000000           71.000000   \n",
       "75%     1.470588e+04    8.695652e+03            6.000000         2896.000000   \n",
       "max     3.000000e+06    2.000000e+06         1330.000000        24820.000000   \n",
       "\n",
       "        Packet Length Mean   Packet Length Std   Packet Length Variance  \\\n",
       "count        539616.000000       539616.000000             5.396160e+05   \n",
       "mean            276.581177          544.090932             1.112688e+06   \n",
       "std             416.169617          903.656284             2.468134e+06   \n",
       "min               0.000000            0.000000             0.000000e+00   \n",
       "25%               3.334000            2.191000             4.800000e+00   \n",
       "50%              50.800000           18.860000             3.559524e+02   \n",
       "75%             484.575000          812.500000             6.598776e+05   \n",
       "max            2160.000000         4732.000000             2.240000e+07   \n",
       "\n",
       "       FIN Flag Count   SYN Flag Count   RST Flag Count   PSH Flag Count  \\\n",
       "count   539616.000000    539616.000000    539616.000000    539616.000000   \n",
       "mean         0.062524         0.036747         0.000120         0.377765   \n",
       "std          0.242105         0.188139         0.010975         0.484829   \n",
       "min          0.000000         0.000000         0.000000         0.000000   \n",
       "25%          0.000000         0.000000         0.000000         0.000000   \n",
       "50%          0.000000         0.000000         0.000000         0.000000   \n",
       "75%          0.000000         0.000000         0.000000         1.000000   \n",
       "max          1.000000         1.000000         1.000000         1.000000   \n",
       "\n",
       "        ACK Flag Count   URG Flag Count   CWE Flag Count   ECE Flag Count  \\\n",
       "count    539616.000000    539616.000000    539616.000000    539616.000000   \n",
       "mean          0.365884         0.060567         0.000056         0.000120   \n",
       "std           0.481678         0.238535         0.007456         0.010975   \n",
       "min           0.000000         0.000000         0.000000         0.000000   \n",
       "25%           0.000000         0.000000         0.000000         0.000000   \n",
       "50%           0.000000         0.000000         0.000000         0.000000   \n",
       "75%           1.000000         0.000000         0.000000         0.000000   \n",
       "max           1.000000         1.000000         1.000000         1.000000   \n",
       "\n",
       "        Down/Up Ratio   Average Packet Size   Avg Fwd Segment Size  \\\n",
       "count   539616.000000         539616.000000          539616.000000   \n",
       "mean         0.643446            305.358765              44.681011   \n",
       "std          0.634460            457.152955             150.873880   \n",
       "min          0.000000              0.000000               0.000000   \n",
       "25%          0.000000              5.000000               2.000000   \n",
       "50%          1.000000             64.500000              11.220000   \n",
       "75%          1.000000            523.000000              48.560000   \n",
       "max         29.000000           2508.000000            5940.000000   \n",
       "\n",
       "        Avg Bwd Segment Size   Fwd Header Length.1  Fwd Avg Bytes/Bulk  \\\n",
       "count          539616.000000          5.396160e+05            539616.0   \n",
       "mean              550.037006         -4.593957e+03                 0.0   \n",
       "std               869.702147          2.095355e+06                 0.0   \n",
       "min                 0.000000         -1.073741e+09                 0.0   \n",
       "25%                 0.000000          4.000000e+01                 0.0   \n",
       "50%                54.000000          6.400000e+01                 0.0   \n",
       "75%               824.500000          1.640000e+02                 0.0   \n",
       "max              5800.000000          4.173072e+06                 0.0   \n",
       "\n",
       "        Fwd Avg Packets/Bulk   Fwd Avg Bulk Rate   Bwd Avg Bytes/Bulk  \\\n",
       "count               539616.0            539616.0             539616.0   \n",
       "mean                     0.0                 0.0                  0.0   \n",
       "std                      0.0                 0.0                  0.0   \n",
       "min                      0.0                 0.0                  0.0   \n",
       "25%                      0.0                 0.0                  0.0   \n",
       "50%                      0.0                 0.0                  0.0   \n",
       "75%                      0.0                 0.0                  0.0   \n",
       "max                      0.0                 0.0                  0.0   \n",
       "\n",
       "        Bwd Avg Packets/Bulk  Bwd Avg Bulk Rate  Subflow Fwd Packets  \\\n",
       "count               539616.0           539616.0        539616.000000   \n",
       "mean                     0.0                0.0             6.119972   \n",
       "std                      0.0                0.0           345.109317   \n",
       "min                      0.0                0.0             1.000000   \n",
       "25%                      0.0                0.0             1.000000   \n",
       "50%                      0.0                0.0             2.000000   \n",
       "75%                      0.0                0.0             6.000000   \n",
       "max                      0.0                0.0        200755.000000   \n",
       "\n",
       "        Subflow Fwd Bytes   Subflow Bwd Packets   Subflow Bwd Bytes  \\\n",
       "count        5.396160e+05         539616.000000        5.396160e+05   \n",
       "mean         4.082371e+02              5.985495        7.998768e+03   \n",
       "std          7.478351e+03            463.490949        1.013814e+06   \n",
       "min          0.000000e+00              0.000000        0.000000e+00   \n",
       "25%          2.000000e+00              1.000000        0.000000e+00   \n",
       "50%          4.400000e+01              2.000000        1.050000e+02   \n",
       "75%          3.200000e+02              5.000000        8.216250e+03   \n",
       "max          2.866110e+06         270686.000000        5.905961e+08   \n",
       "\n",
       "       Init_Win_bytes_forward   Init_Win_bytes_backward   act_data_pkt_fwd  \\\n",
       "count           539616.000000             539616.000000      539616.000000   \n",
       "mean              7564.762311               1277.937053           2.946516   \n",
       "std              13440.653528               6590.247532         267.510434   \n",
       "min                 -1.000000                 -1.000000           0.000000   \n",
       "25%                  0.000000                 -1.000000           0.000000   \n",
       "50%                274.000000                  0.000000           1.000000   \n",
       "75%               8192.000000                235.000000           2.000000   \n",
       "max              65535.000000              65535.000000      192491.000000   \n",
       "\n",
       "        min_seg_size_forward   Active Mean    Active Std    Active Max  \\\n",
       "count           5.396160e+05  5.396160e+05  5.396160e+05  5.396160e+05   \n",
       "mean           -2.429314e+03  1.154984e+05  4.037570e+04  1.672882e+05   \n",
       "std             1.052329e+06  7.787530e+05  4.347032e+05  1.059626e+06   \n",
       "min            -5.368707e+08  0.000000e+00  0.000000e+00  0.000000e+00   \n",
       "25%             2.000000e+01  0.000000e+00  0.000000e+00  0.000000e+00   \n",
       "50%             2.400000e+01  0.000000e+00  0.000000e+00  0.000000e+00   \n",
       "75%             3.200000e+01  6.000000e+00  0.000000e+00  6.000000e+00   \n",
       "max             1.380000e+02  1.020000e+08  6.350000e+07  1.020000e+08   \n",
       "\n",
       "         Active Min     Idle Mean      Idle Std      Idle Max      Idle Min  \n",
       "count  5.396160e+05  5.396160e+05  5.396160e+05  5.396160e+05  5.396160e+05  \n",
       "mean   8.983017e+04  1.610155e+07  9.585649e+05  1.687227e+07  1.539150e+07  \n",
       "std    7.099710e+05  3.315463e+07  6.461275e+06  3.403851e+07  3.295695e+07  \n",
       "min    0.000000e+00  0.000000e+00  0.000000e+00  0.000000e+00  0.000000e+00  \n",
       "25%    0.000000e+00  0.000000e+00  0.000000e+00  0.000000e+00  0.000000e+00  \n",
       "50%    0.000000e+00  0.000000e+00  0.000000e+00  0.000000e+00  0.000000e+00  \n",
       "75%    5.000000e+00  7.125041e+06  0.000000e+00  7.143036e+06  6.028677e+06  \n",
       "max    1.020000e+08  1.200000e+08  7.690000e+07  1.200000e+08  1.200000e+08  "
      ]
     },
     "execution_count": 147,
     "metadata": {},
     "output_type": "execute_result"
    }
   ],
   "source": [
    "# Вывдедем статистики\n",
    "df.describe()"
   ]
  },
  {
   "cell_type": "markdown",
   "id": "06525256",
   "metadata": {},
   "source": [
    "Данных достаточно много и формат данных слишком тяжелый. Далее формат числовых признаков будет сжат. Пропусков в данных незначительное количество, тщательная предобработка не требуется. Встречается несоклько столбцов, которые содержат только одно значение 1. Их можно удалить."
   ]
  },
  {
   "cell_type": "markdown",
   "id": "09a0e4dd",
   "metadata": {},
   "source": [
    "# Предобработка данных"
   ]
  },
  {
   "cell_type": "markdown",
   "id": "5996cd62",
   "metadata": {},
   "source": [
    "Выполним небольшую предобработку данных: удалим неинформативные столбцы, сожмем формат данных, удалим пропуски."
   ]
  },
  {
   "cell_type": "code",
   "execution_count": 148,
   "id": "c5ba6699",
   "metadata": {},
   "outputs": [],
   "source": [
    "# Удалим пробелы из названия столбцов\n",
    "df = df.rename(columns=lambda x: x.strip())"
   ]
  },
  {
   "cell_type": "code",
   "execution_count": 149,
   "id": "ed408243",
   "metadata": {},
   "outputs": [],
   "source": [
    "# Сохраним названия столбцов для удаления\n",
    "col_to_drop = ['Bwd PSH Flags',  \n",
    "               'Bwd URG Flags', \n",
    "               'Fwd Avg Bytes/Bulk', \n",
    "               'Fwd Avg Packets/Bulk', \n",
    "               'Fwd Avg Bulk Rate', \n",
    "               'Bwd Avg Bytes/Bulk', \n",
    "               'Bwd Avg Packets/Bulk',  \n",
    "               'Bwd Avg Bulk Rate']\n",
    "\n",
    "# Удалим столбцы\n",
    "df.drop(col_to_drop, axis= 1, inplace= True )"
   ]
  },
  {
   "cell_type": "code",
   "execution_count": 150,
   "id": "601f65ad",
   "metadata": {},
   "outputs": [],
   "source": [
    "# Заменим тип данных на на более легкий\n",
    "ints = df.select_dtypes(include='int').columns.to_list()\n",
    "df[ints] = df[ints].astype(np.int32)"
   ]
  },
  {
   "cell_type": "code",
   "execution_count": 151,
   "id": "2dfc8c6c",
   "metadata": {},
   "outputs": [],
   "source": [
    "# Заменим тип данных на на более легкий\n",
    "ints = df.select_dtypes(include='float').columns.to_list()\n",
    "df[ints] = df[ints].astype(np.float32)"
   ]
  },
  {
   "cell_type": "code",
   "execution_count": 152,
   "id": "550963d2",
   "metadata": {},
   "outputs": [],
   "source": [
    "# Заполним значения, которые получены в результате деления на 0\n",
    "df.replace([np.inf, -np.inf], 0, inplace=True)"
   ]
  },
  {
   "cell_type": "code",
   "execution_count": 153,
   "id": "385a3e97",
   "metadata": {},
   "outputs": [],
   "source": [
    "# Удалим пропуски\n",
    "df.dropna(inplace=True)"
   ]
  },
  {
   "cell_type": "code",
   "execution_count": 154,
   "id": "5fa1df68",
   "metadata": {},
   "outputs": [
    {
     "data": {
      "text/html": [
       "<div>\n",
       "<style scoped>\n",
       "    .dataframe tbody tr th:only-of-type {\n",
       "        vertical-align: middle;\n",
       "    }\n",
       "\n",
       "    .dataframe tbody tr th {\n",
       "        vertical-align: top;\n",
       "    }\n",
       "\n",
       "    .dataframe thead th {\n",
       "        text-align: right;\n",
       "    }\n",
       "</style>\n",
       "<table border=\"1\" class=\"dataframe\">\n",
       "  <thead>\n",
       "    <tr style=\"text-align: right;\">\n",
       "      <th></th>\n",
       "      <th>Destination Port</th>\n",
       "      <th>Flow Duration</th>\n",
       "      <th>Total Fwd Packets</th>\n",
       "      <th>Total Backward Packets</th>\n",
       "      <th>Total Length of Fwd Packets</th>\n",
       "      <th>Total Length of Bwd Packets</th>\n",
       "      <th>Fwd Packet Length Max</th>\n",
       "      <th>Fwd Packet Length Min</th>\n",
       "      <th>Fwd Packet Length Mean</th>\n",
       "      <th>Fwd Packet Length Std</th>\n",
       "      <th>Bwd Packet Length Max</th>\n",
       "      <th>Bwd Packet Length Min</th>\n",
       "      <th>Bwd Packet Length Mean</th>\n",
       "      <th>Bwd Packet Length Std</th>\n",
       "      <th>Flow Bytes/s</th>\n",
       "      <th>Flow Packets/s</th>\n",
       "      <th>Flow IAT Mean</th>\n",
       "      <th>Flow IAT Std</th>\n",
       "      <th>Flow IAT Max</th>\n",
       "      <th>Flow IAT Min</th>\n",
       "      <th>Fwd IAT Total</th>\n",
       "      <th>Fwd IAT Mean</th>\n",
       "      <th>Fwd IAT Std</th>\n",
       "      <th>Fwd IAT Max</th>\n",
       "      <th>Fwd IAT Min</th>\n",
       "      <th>Bwd IAT Total</th>\n",
       "      <th>Bwd IAT Mean</th>\n",
       "      <th>Bwd IAT Std</th>\n",
       "      <th>Bwd IAT Max</th>\n",
       "      <th>Bwd IAT Min</th>\n",
       "      <th>Fwd PSH Flags</th>\n",
       "      <th>Fwd URG Flags</th>\n",
       "      <th>Fwd Header Length</th>\n",
       "      <th>Bwd Header Length</th>\n",
       "      <th>Fwd Packets/s</th>\n",
       "      <th>Bwd Packets/s</th>\n",
       "      <th>Min Packet Length</th>\n",
       "      <th>Max Packet Length</th>\n",
       "      <th>Packet Length Mean</th>\n",
       "      <th>Packet Length Std</th>\n",
       "      <th>Packet Length Variance</th>\n",
       "      <th>FIN Flag Count</th>\n",
       "      <th>SYN Flag Count</th>\n",
       "      <th>RST Flag Count</th>\n",
       "      <th>PSH Flag Count</th>\n",
       "      <th>ACK Flag Count</th>\n",
       "      <th>URG Flag Count</th>\n",
       "      <th>CWE Flag Count</th>\n",
       "      <th>ECE Flag Count</th>\n",
       "      <th>Down/Up Ratio</th>\n",
       "      <th>Average Packet Size</th>\n",
       "      <th>Avg Fwd Segment Size</th>\n",
       "      <th>Avg Bwd Segment Size</th>\n",
       "      <th>Fwd Header Length.1</th>\n",
       "      <th>Subflow Fwd Packets</th>\n",
       "      <th>Subflow Fwd Bytes</th>\n",
       "      <th>Subflow Bwd Packets</th>\n",
       "      <th>Subflow Bwd Bytes</th>\n",
       "      <th>Init_Win_bytes_forward</th>\n",
       "      <th>Init_Win_bytes_backward</th>\n",
       "      <th>act_data_pkt_fwd</th>\n",
       "      <th>min_seg_size_forward</th>\n",
       "      <th>Active Mean</th>\n",
       "      <th>Active Std</th>\n",
       "      <th>Active Max</th>\n",
       "      <th>Active Min</th>\n",
       "      <th>Idle Mean</th>\n",
       "      <th>Idle Std</th>\n",
       "      <th>Idle Max</th>\n",
       "      <th>Idle Min</th>\n",
       "      <th>Label</th>\n",
       "    </tr>\n",
       "  </thead>\n",
       "  <tbody>\n",
       "    <tr>\n",
       "      <th>283556</th>\n",
       "      <td>80</td>\n",
       "      <td>4</td>\n",
       "      <td>2</td>\n",
       "      <td>0</td>\n",
       "      <td>0</td>\n",
       "      <td>0</td>\n",
       "      <td>0</td>\n",
       "      <td>0</td>\n",
       "      <td>0.00</td>\n",
       "      <td>0.00</td>\n",
       "      <td>0</td>\n",
       "      <td>0</td>\n",
       "      <td>0.0</td>\n",
       "      <td>0.000000</td>\n",
       "      <td>0.000000e+00</td>\n",
       "      <td>500000.000000</td>\n",
       "      <td>4.0</td>\n",
       "      <td>0.000000e+00</td>\n",
       "      <td>4</td>\n",
       "      <td>4</td>\n",
       "      <td>4</td>\n",
       "      <td>4.0</td>\n",
       "      <td>0.0</td>\n",
       "      <td>4</td>\n",
       "      <td>4</td>\n",
       "      <td>0</td>\n",
       "      <td>0.000000e+00</td>\n",
       "      <td>0.000000e+00</td>\n",
       "      <td>0</td>\n",
       "      <td>0</td>\n",
       "      <td>0</td>\n",
       "      <td>0</td>\n",
       "      <td>64</td>\n",
       "      <td>0</td>\n",
       "      <td>500000.000000</td>\n",
       "      <td>0.000000</td>\n",
       "      <td>0</td>\n",
       "      <td>0</td>\n",
       "      <td>0.000000</td>\n",
       "      <td>0.000000</td>\n",
       "      <td>0.000000e+00</td>\n",
       "      <td>0</td>\n",
       "      <td>0</td>\n",
       "      <td>0</td>\n",
       "      <td>0</td>\n",
       "      <td>1</td>\n",
       "      <td>0</td>\n",
       "      <td>0</td>\n",
       "      <td>0</td>\n",
       "      <td>0</td>\n",
       "      <td>0.000000</td>\n",
       "      <td>0.00</td>\n",
       "      <td>0.0</td>\n",
       "      <td>64</td>\n",
       "      <td>2</td>\n",
       "      <td>0</td>\n",
       "      <td>0</td>\n",
       "      <td>0</td>\n",
       "      <td>251</td>\n",
       "      <td>-1</td>\n",
       "      <td>0</td>\n",
       "      <td>32</td>\n",
       "      <td>0.0</td>\n",
       "      <td>0.00000</td>\n",
       "      <td>0</td>\n",
       "      <td>0</td>\n",
       "      <td>0.0</td>\n",
       "      <td>0.0</td>\n",
       "      <td>0</td>\n",
       "      <td>0</td>\n",
       "      <td>DoS Hulk</td>\n",
       "    </tr>\n",
       "    <tr>\n",
       "      <th>209708</th>\n",
       "      <td>53</td>\n",
       "      <td>117173056</td>\n",
       "      <td>3</td>\n",
       "      <td>3</td>\n",
       "      <td>149</td>\n",
       "      <td>495</td>\n",
       "      <td>60</td>\n",
       "      <td>44</td>\n",
       "      <td>49.66</td>\n",
       "      <td>8.96</td>\n",
       "      <td>261</td>\n",
       "      <td>76</td>\n",
       "      <td>165.0</td>\n",
       "      <td>92.699997</td>\n",
       "      <td>5.496144e+00</td>\n",
       "      <td>0.051206</td>\n",
       "      <td>23400000.0</td>\n",
       "      <td>4.860000e+07</td>\n",
       "      <td>110000000</td>\n",
       "      <td>23905</td>\n",
       "      <td>117000000</td>\n",
       "      <td>58600000.0</td>\n",
       "      <td>73800000.0</td>\n",
       "      <td>111000000</td>\n",
       "      <td>6404777</td>\n",
       "      <td>117000000</td>\n",
       "      <td>5.860000e+07</td>\n",
       "      <td>7.300000e+07</td>\n",
       "      <td>110000000</td>\n",
       "      <td>6898383</td>\n",
       "      <td>0</td>\n",
       "      <td>0</td>\n",
       "      <td>72</td>\n",
       "      <td>96</td>\n",
       "      <td>0.025603</td>\n",
       "      <td>0.025603</td>\n",
       "      <td>44</td>\n",
       "      <td>261</td>\n",
       "      <td>98.300003</td>\n",
       "      <td>82.400002</td>\n",
       "      <td>6.789571e+03</td>\n",
       "      <td>0</td>\n",
       "      <td>0</td>\n",
       "      <td>0</td>\n",
       "      <td>0</td>\n",
       "      <td>0</td>\n",
       "      <td>0</td>\n",
       "      <td>0</td>\n",
       "      <td>0</td>\n",
       "      <td>1</td>\n",
       "      <td>114.699997</td>\n",
       "      <td>49.66</td>\n",
       "      <td>165.0</td>\n",
       "      <td>72</td>\n",
       "      <td>3</td>\n",
       "      <td>149</td>\n",
       "      <td>3</td>\n",
       "      <td>495</td>\n",
       "      <td>-1</td>\n",
       "      <td>-1</td>\n",
       "      <td>2</td>\n",
       "      <td>20</td>\n",
       "      <td>316507.0</td>\n",
       "      <td>349032.15625</td>\n",
       "      <td>563310</td>\n",
       "      <td>69704</td>\n",
       "      <td>58300000.0</td>\n",
       "      <td>73400000.0</td>\n",
       "      <td>110000000</td>\n",
       "      <td>6335073</td>\n",
       "      <td>BENIGN</td>\n",
       "    </tr>\n",
       "    <tr>\n",
       "      <th>347936</th>\n",
       "      <td>80</td>\n",
       "      <td>99673831</td>\n",
       "      <td>6</td>\n",
       "      <td>7</td>\n",
       "      <td>365</td>\n",
       "      <td>11595</td>\n",
       "      <td>365</td>\n",
       "      <td>0</td>\n",
       "      <td>60.84</td>\n",
       "      <td>149.00</td>\n",
       "      <td>4344</td>\n",
       "      <td>0</td>\n",
       "      <td>1656.0</td>\n",
       "      <td>1548.000000</td>\n",
       "      <td>1.199914e+02</td>\n",
       "      <td>0.130425</td>\n",
       "      <td>8306152.5</td>\n",
       "      <td>2.870000e+07</td>\n",
       "      <td>99500000</td>\n",
       "      <td>2</td>\n",
       "      <td>99500000</td>\n",
       "      <td>19900000.0</td>\n",
       "      <td>44500000.0</td>\n",
       "      <td>99500000</td>\n",
       "      <td>3</td>\n",
       "      <td>152657</td>\n",
       "      <td>2.544283e+04</td>\n",
       "      <td>5.681066e+04</td>\n",
       "      <td>141059</td>\n",
       "      <td>48</td>\n",
       "      <td>0</td>\n",
       "      <td>0</td>\n",
       "      <td>200</td>\n",
       "      <td>232</td>\n",
       "      <td>0.060196</td>\n",
       "      <td>0.070229</td>\n",
       "      <td>0</td>\n",
       "      <td>4344</td>\n",
       "      <td>854.500000</td>\n",
       "      <td>1344.000000</td>\n",
       "      <td>1.807324e+06</td>\n",
       "      <td>0</td>\n",
       "      <td>0</td>\n",
       "      <td>0</td>\n",
       "      <td>0</td>\n",
       "      <td>1</td>\n",
       "      <td>0</td>\n",
       "      <td>0</td>\n",
       "      <td>0</td>\n",
       "      <td>1</td>\n",
       "      <td>920.000000</td>\n",
       "      <td>60.84</td>\n",
       "      <td>1656.0</td>\n",
       "      <td>200</td>\n",
       "      <td>6</td>\n",
       "      <td>365</td>\n",
       "      <td>7</td>\n",
       "      <td>11595</td>\n",
       "      <td>274</td>\n",
       "      <td>235</td>\n",
       "      <td>1</td>\n",
       "      <td>32</td>\n",
       "      <td>970.0</td>\n",
       "      <td>0.00000</td>\n",
       "      <td>970</td>\n",
       "      <td>970</td>\n",
       "      <td>99500000.0</td>\n",
       "      <td>0.0</td>\n",
       "      <td>99500000</td>\n",
       "      <td>99500000</td>\n",
       "      <td>DoS Hulk</td>\n",
       "    </tr>\n",
       "    <tr>\n",
       "      <th>452186</th>\n",
       "      <td>1494</td>\n",
       "      <td>52</td>\n",
       "      <td>1</td>\n",
       "      <td>1</td>\n",
       "      <td>2</td>\n",
       "      <td>6</td>\n",
       "      <td>2</td>\n",
       "      <td>2</td>\n",
       "      <td>2.00</td>\n",
       "      <td>0.00</td>\n",
       "      <td>6</td>\n",
       "      <td>6</td>\n",
       "      <td>6.0</td>\n",
       "      <td>0.000000</td>\n",
       "      <td>1.538462e+05</td>\n",
       "      <td>38461.539062</td>\n",
       "      <td>52.0</td>\n",
       "      <td>0.000000e+00</td>\n",
       "      <td>52</td>\n",
       "      <td>52</td>\n",
       "      <td>0</td>\n",
       "      <td>0.0</td>\n",
       "      <td>0.0</td>\n",
       "      <td>0</td>\n",
       "      <td>0</td>\n",
       "      <td>0</td>\n",
       "      <td>0.000000e+00</td>\n",
       "      <td>0.000000e+00</td>\n",
       "      <td>0</td>\n",
       "      <td>0</td>\n",
       "      <td>0</td>\n",
       "      <td>0</td>\n",
       "      <td>24</td>\n",
       "      <td>20</td>\n",
       "      <td>19230.769531</td>\n",
       "      <td>19230.769531</td>\n",
       "      <td>2</td>\n",
       "      <td>6</td>\n",
       "      <td>3.334000</td>\n",
       "      <td>2.309000</td>\n",
       "      <td>5.333333e+00</td>\n",
       "      <td>0</td>\n",
       "      <td>0</td>\n",
       "      <td>0</td>\n",
       "      <td>1</td>\n",
       "      <td>0</td>\n",
       "      <td>0</td>\n",
       "      <td>0</td>\n",
       "      <td>0</td>\n",
       "      <td>1</td>\n",
       "      <td>5.000000</td>\n",
       "      <td>2.00</td>\n",
       "      <td>6.0</td>\n",
       "      <td>24</td>\n",
       "      <td>1</td>\n",
       "      <td>2</td>\n",
       "      <td>1</td>\n",
       "      <td>6</td>\n",
       "      <td>1024</td>\n",
       "      <td>0</td>\n",
       "      <td>0</td>\n",
       "      <td>24</td>\n",
       "      <td>0.0</td>\n",
       "      <td>0.00000</td>\n",
       "      <td>0</td>\n",
       "      <td>0</td>\n",
       "      <td>0.0</td>\n",
       "      <td>0.0</td>\n",
       "      <td>0</td>\n",
       "      <td>0</td>\n",
       "      <td>PortScan</td>\n",
       "    </tr>\n",
       "    <tr>\n",
       "      <th>135611</th>\n",
       "      <td>53</td>\n",
       "      <td>165</td>\n",
       "      <td>2</td>\n",
       "      <td>2</td>\n",
       "      <td>76</td>\n",
       "      <td>164</td>\n",
       "      <td>38</td>\n",
       "      <td>38</td>\n",
       "      <td>38.00</td>\n",
       "      <td>0.00</td>\n",
       "      <td>82</td>\n",
       "      <td>82</td>\n",
       "      <td>82.0</td>\n",
       "      <td>0.000000</td>\n",
       "      <td>1.454546e+06</td>\n",
       "      <td>24242.423828</td>\n",
       "      <td>55.0</td>\n",
       "      <td>9.006664e+01</td>\n",
       "      <td>159</td>\n",
       "      <td>3</td>\n",
       "      <td>3</td>\n",
       "      <td>3.0</td>\n",
       "      <td>0.0</td>\n",
       "      <td>3</td>\n",
       "      <td>3</td>\n",
       "      <td>3</td>\n",
       "      <td>3.000000e+00</td>\n",
       "      <td>0.000000e+00</td>\n",
       "      <td>3</td>\n",
       "      <td>3</td>\n",
       "      <td>0</td>\n",
       "      <td>0</td>\n",
       "      <td>64</td>\n",
       "      <td>40</td>\n",
       "      <td>12121.211914</td>\n",
       "      <td>12121.211914</td>\n",
       "      <td>38</td>\n",
       "      <td>82</td>\n",
       "      <td>55.599998</td>\n",
       "      <td>24.100000</td>\n",
       "      <td>5.808000e+02</td>\n",
       "      <td>0</td>\n",
       "      <td>0</td>\n",
       "      <td>0</td>\n",
       "      <td>0</td>\n",
       "      <td>0</td>\n",
       "      <td>0</td>\n",
       "      <td>0</td>\n",
       "      <td>0</td>\n",
       "      <td>1</td>\n",
       "      <td>69.500000</td>\n",
       "      <td>38.00</td>\n",
       "      <td>82.0</td>\n",
       "      <td>64</td>\n",
       "      <td>2</td>\n",
       "      <td>76</td>\n",
       "      <td>2</td>\n",
       "      <td>164</td>\n",
       "      <td>-1</td>\n",
       "      <td>-1</td>\n",
       "      <td>1</td>\n",
       "      <td>32</td>\n",
       "      <td>0.0</td>\n",
       "      <td>0.00000</td>\n",
       "      <td>0</td>\n",
       "      <td>0</td>\n",
       "      <td>0.0</td>\n",
       "      <td>0.0</td>\n",
       "      <td>0</td>\n",
       "      <td>0</td>\n",
       "      <td>BENIGN</td>\n",
       "    </tr>\n",
       "  </tbody>\n",
       "</table>\n",
       "</div>"
      ],
      "text/plain": [
       "        Destination Port  Flow Duration  Total Fwd Packets  \\\n",
       "283556                80              4                  2   \n",
       "209708                53      117173056                  3   \n",
       "347936                80       99673831                  6   \n",
       "452186              1494             52                  1   \n",
       "135611                53            165                  2   \n",
       "\n",
       "        Total Backward Packets  Total Length of Fwd Packets  \\\n",
       "283556                       0                            0   \n",
       "209708                       3                          149   \n",
       "347936                       7                          365   \n",
       "452186                       1                            2   \n",
       "135611                       2                           76   \n",
       "\n",
       "        Total Length of Bwd Packets  Fwd Packet Length Max  \\\n",
       "283556                            0                      0   \n",
       "209708                          495                     60   \n",
       "347936                        11595                    365   \n",
       "452186                            6                      2   \n",
       "135611                          164                     38   \n",
       "\n",
       "        Fwd Packet Length Min  Fwd Packet Length Mean  Fwd Packet Length Std  \\\n",
       "283556                      0                    0.00                   0.00   \n",
       "209708                     44                   49.66                   8.96   \n",
       "347936                      0                   60.84                 149.00   \n",
       "452186                      2                    2.00                   0.00   \n",
       "135611                     38                   38.00                   0.00   \n",
       "\n",
       "        Bwd Packet Length Max  Bwd Packet Length Min  Bwd Packet Length Mean  \\\n",
       "283556                      0                      0                     0.0   \n",
       "209708                    261                     76                   165.0   \n",
       "347936                   4344                      0                  1656.0   \n",
       "452186                      6                      6                     6.0   \n",
       "135611                     82                     82                    82.0   \n",
       "\n",
       "        Bwd Packet Length Std  Flow Bytes/s  Flow Packets/s  Flow IAT Mean  \\\n",
       "283556               0.000000  0.000000e+00   500000.000000            4.0   \n",
       "209708              92.699997  5.496144e+00        0.051206     23400000.0   \n",
       "347936            1548.000000  1.199914e+02        0.130425      8306152.5   \n",
       "452186               0.000000  1.538462e+05    38461.539062           52.0   \n",
       "135611               0.000000  1.454546e+06    24242.423828           55.0   \n",
       "\n",
       "        Flow IAT Std  Flow IAT Max  Flow IAT Min  Fwd IAT Total  Fwd IAT Mean  \\\n",
       "283556  0.000000e+00             4             4              4           4.0   \n",
       "209708  4.860000e+07     110000000         23905      117000000    58600000.0   \n",
       "347936  2.870000e+07      99500000             2       99500000    19900000.0   \n",
       "452186  0.000000e+00            52            52              0           0.0   \n",
       "135611  9.006664e+01           159             3              3           3.0   \n",
       "\n",
       "        Fwd IAT Std  Fwd IAT Max  Fwd IAT Min  Bwd IAT Total  Bwd IAT Mean  \\\n",
       "283556          0.0            4            4              0  0.000000e+00   \n",
       "209708   73800000.0    111000000      6404777      117000000  5.860000e+07   \n",
       "347936   44500000.0     99500000            3         152657  2.544283e+04   \n",
       "452186          0.0            0            0              0  0.000000e+00   \n",
       "135611          0.0            3            3              3  3.000000e+00   \n",
       "\n",
       "         Bwd IAT Std  Bwd IAT Max  Bwd IAT Min  Fwd PSH Flags  Fwd URG Flags  \\\n",
       "283556  0.000000e+00            0            0              0              0   \n",
       "209708  7.300000e+07    110000000      6898383              0              0   \n",
       "347936  5.681066e+04       141059           48              0              0   \n",
       "452186  0.000000e+00            0            0              0              0   \n",
       "135611  0.000000e+00            3            3              0              0   \n",
       "\n",
       "        Fwd Header Length  Bwd Header Length  Fwd Packets/s  Bwd Packets/s  \\\n",
       "283556                 64                  0  500000.000000       0.000000   \n",
       "209708                 72                 96       0.025603       0.025603   \n",
       "347936                200                232       0.060196       0.070229   \n",
       "452186                 24                 20   19230.769531   19230.769531   \n",
       "135611                 64                 40   12121.211914   12121.211914   \n",
       "\n",
       "        Min Packet Length  Max Packet Length  Packet Length Mean  \\\n",
       "283556                  0                  0            0.000000   \n",
       "209708                 44                261           98.300003   \n",
       "347936                  0               4344          854.500000   \n",
       "452186                  2                  6            3.334000   \n",
       "135611                 38                 82           55.599998   \n",
       "\n",
       "        Packet Length Std  Packet Length Variance  FIN Flag Count  \\\n",
       "283556           0.000000            0.000000e+00               0   \n",
       "209708          82.400002            6.789571e+03               0   \n",
       "347936        1344.000000            1.807324e+06               0   \n",
       "452186           2.309000            5.333333e+00               0   \n",
       "135611          24.100000            5.808000e+02               0   \n",
       "\n",
       "        SYN Flag Count  RST Flag Count  PSH Flag Count  ACK Flag Count  \\\n",
       "283556               0               0               0               1   \n",
       "209708               0               0               0               0   \n",
       "347936               0               0               0               1   \n",
       "452186               0               0               1               0   \n",
       "135611               0               0               0               0   \n",
       "\n",
       "        URG Flag Count  CWE Flag Count  ECE Flag Count  Down/Up Ratio  \\\n",
       "283556               0               0               0              0   \n",
       "209708               0               0               0              1   \n",
       "347936               0               0               0              1   \n",
       "452186               0               0               0              1   \n",
       "135611               0               0               0              1   \n",
       "\n",
       "        Average Packet Size  Avg Fwd Segment Size  Avg Bwd Segment Size  \\\n",
       "283556             0.000000                  0.00                   0.0   \n",
       "209708           114.699997                 49.66                 165.0   \n",
       "347936           920.000000                 60.84                1656.0   \n",
       "452186             5.000000                  2.00                   6.0   \n",
       "135611            69.500000                 38.00                  82.0   \n",
       "\n",
       "        Fwd Header Length.1  Subflow Fwd Packets  Subflow Fwd Bytes  \\\n",
       "283556                   64                    2                  0   \n",
       "209708                   72                    3                149   \n",
       "347936                  200                    6                365   \n",
       "452186                   24                    1                  2   \n",
       "135611                   64                    2                 76   \n",
       "\n",
       "        Subflow Bwd Packets  Subflow Bwd Bytes  Init_Win_bytes_forward  \\\n",
       "283556                    0                  0                     251   \n",
       "209708                    3                495                      -1   \n",
       "347936                    7              11595                     274   \n",
       "452186                    1                  6                    1024   \n",
       "135611                    2                164                      -1   \n",
       "\n",
       "        Init_Win_bytes_backward  act_data_pkt_fwd  min_seg_size_forward  \\\n",
       "283556                       -1                 0                    32   \n",
       "209708                       -1                 2                    20   \n",
       "347936                      235                 1                    32   \n",
       "452186                        0                 0                    24   \n",
       "135611                       -1                 1                    32   \n",
       "\n",
       "        Active Mean    Active Std  Active Max  Active Min   Idle Mean  \\\n",
       "283556          0.0       0.00000           0           0         0.0   \n",
       "209708     316507.0  349032.15625      563310       69704  58300000.0   \n",
       "347936        970.0       0.00000         970         970  99500000.0   \n",
       "452186          0.0       0.00000           0           0         0.0   \n",
       "135611          0.0       0.00000           0           0         0.0   \n",
       "\n",
       "          Idle Std   Idle Max  Idle Min     Label  \n",
       "283556         0.0          0         0  DoS Hulk  \n",
       "209708  73400000.0  110000000   6335073    BENIGN  \n",
       "347936         0.0   99500000  99500000  DoS Hulk  \n",
       "452186         0.0          0         0  PortScan  \n",
       "135611         0.0          0         0    BENIGN  "
      ]
     },
     "execution_count": 154,
     "metadata": {},
     "output_type": "execute_result"
    }
   ],
   "source": [
    "# Посмотрим на результат\n",
    "df.sample(5)"
   ]
  },
  {
   "cell_type": "markdown",
   "id": "44798a72",
   "metadata": {},
   "source": [
    "В результате предобработки бул потерян небольшой процент данных - это не должно негативно сказаться на результатах предсказаний."
   ]
  },
  {
   "cell_type": "markdown",
   "id": "7d364746",
   "metadata": {},
   "source": [
    "# Анализ данных"
   ]
  },
  {
   "cell_type": "markdown",
   "id": "60fdcf8c",
   "metadata": {},
   "source": [
    "Далее посмотрим на выбросы и проанализируем баланс классов."
   ]
  },
  {
   "cell_type": "code",
   "execution_count": 106,
   "id": "667b5a6f",
   "metadata": {},
   "outputs": [
    {
     "name": "stdout",
     "output_type": "stream",
     "text": [
      "Destination Port\n"
     ]
    },
    {
     "data": {
      "image/png": "[encoded data removed]",
      "text/plain": [
       "<Figure size 864x144 with 1 Axes>"
      ]
     },
     "metadata": {
      "needs_background": "light"
     },
     "output_type": "display_data"
    },
    {
     "name": "stdout",
     "output_type": "stream",
     "text": [
      "Flow Duration\n"
     ]
    },
    {
     "data": {
      "image/png": "[encoded data removed]",
      "text/plain": [
       "<Figure size 864x144 with 1 Axes>"
      ]
     },
     "metadata": {
      "needs_background": "light"
     },
     "output_type": "display_data"
    },
    {
     "name": "stdout",
     "output_type": "stream",
     "text": [
      "Total Fwd Packets\n"
     ]
    },
    {
     "data": {
      "image/png": "[encoded data removed]",
      "text/plain": [
       "<Figure size 864x144 with 1 Axes>"
      ]
     },
     "metadata": {
      "needs_background": "light"
     },
     "output_type": "display_data"
    },
    {
     "name": "stdout",
     "output_type": "stream",
     "text": [
      "Total Backward Packets\n"
     ]
    },
    {
     "data": {
      "image/png": "[encoded data removed]",
      "text/plain": [
       "<Figure size 864x144 with 1 Axes>"
      ]
     },
     "metadata": {
      "needs_background": "light"
     },
     "output_type": "display_data"
    },
    {
     "name": "stdout",
     "output_type": "stream",
     "text": [
      "Total Length of Fwd Packets\n"
     ]
    },
    {
     "data": {
      "image/png": "[encoded data removed]",
      "text/plain": [
       "<Figure size 864x144 with 1 Axes>"
      ]
     },
     "metadata": {
      "needs_background": "light"
     },
     "output_type": "display_data"
    },
    {
     "name": "stdout",
     "output_type": "stream",
     "text": [
      "Total Length of Bwd Packets\n"
     ]
    },
    {
     "data": {
      "image/png": "[encoded data removed]",
      "text/plain": [
       "<Figure size 864x144 with 1 Axes>"
      ]
     },
     "metadata": {
      "needs_background": "light"
     },
     "output_type": "display_data"
    },
    {
     "name": "stdout",
     "output_type": "stream",
     "text": [
      "Fwd Packet Length Max\n"
     ]
    },
    {
     "data": {
      "image/png": "[encoded data removed]",
      "text/plain": [
       "<Figure size 864x144 with 1 Axes>"
      ]
     },
     "metadata": {
      "needs_background": "light"
     },
     "output_type": "display_data"
    },
    {
     "name": "stdout",
     "output_type": "stream",
     "text": [
      "Fwd Packet Length Min\n"
     ]
    },
    {
     "data": {
      "image/png": "[encoded data removed]",
      "text/plain": [
       "<Figure size 864x144 with 1 Axes>"
      ]
     },
     "metadata": {
      "needs_background": "light"
     },
     "output_type": "display_data"
    },
    {
     "name": "stdout",
     "output_type": "stream",
     "text": [
      "Fwd Packet Length Mean\n"
     ]
    },
    {
     "data": {
      "image/png": "[encoded data removed]",
      "text/plain": [
       "<Figure size 864x144 with 1 Axes>"
      ]
     },
     "metadata": {
      "needs_background": "light"
     },
     "output_type": "display_data"
    },
    {
     "name": "stdout",
     "output_type": "stream",
     "text": [
      "Fwd Packet Length Std\n"
     ]
    },
    {
     "data": {
      "image/png": "[encoded data removed]",
      "text/plain": [
       "<Figure size 864x144 with 1 Axes>"
      ]
     },
     "metadata": {
      "needs_background": "light"
     },
     "output_type": "display_data"
    },
    {
     "name": "stdout",
     "output_type": "stream",
     "text": [
      "Bwd Packet Length Max\n"
     ]
    },
    {
     "data": {
      "image/png": "[encoded data removed]",
      "text/plain": [
       "<Figure size 864x144 with 1 Axes>"
      ]
     },
     "metadata": {
      "needs_background": "light"
     },
     "output_type": "display_data"
    },
    {
     "name": "stdout",
     "output_type": "stream",
     "text": [
      "Bwd Packet Length Min\n"
     ]
    },
    {
     "data": {
      "image/png": "[encoded data removed]",
      "text/plain": [
       "<Figure size 864x144 with 1 Axes>"
      ]
     },
     "metadata": {
      "needs_background": "light"
     },
     "output_type": "display_data"
    },
    {
     "name": "stdout",
     "output_type": "stream",
     "text": [
      "Bwd Packet Length Mean\n"
     ]
    },
    {
     "data": {
      "image/png": "[encoded data removed]",
      "text/plain": [
       "<Figure size 864x144 with 1 Axes>"
      ]
     },
     "metadata": {
      "needs_background": "light"
     },
     "output_type": "display_data"
    },
    {
     "name": "stdout",
     "output_type": "stream",
     "text": [
      "Bwd Packet Length Std\n"
     ]
    },
    {
     "data": {
      "image/png": "[encoded data removed]",
      "text/plain": [
       "<Figure size 864x144 with 1 Axes>"
      ]
     },
     "metadata": {
      "needs_background": "light"
     },
     "output_type": "display_data"
    },
    {
     "name": "stdout",
     "output_type": "stream",
     "text": [
      "Flow Bytes/s\n"
     ]
    },
    {
     "data": {
      "image/png": "[encoded data removed]",
      "text/plain": [
       "<Figure size 864x144 with 1 Axes>"
      ]
     },
     "metadata": {
      "needs_background": "light"
     },
     "output_type": "display_data"
    },
    {
     "name": "stdout",
     "output_type": "stream",
     "text": [
      "Flow Packets/s\n"
     ]
    },
    {
     "data": {
      "image/png": "[encoded data removed]",
      "text/plain": [
       "<Figure size 864x144 with 1 Axes>"
      ]
     },
     "metadata": {
      "needs_background": "light"
     },
     "output_type": "display_data"
    },
    {
     "name": "stdout",
     "output_type": "stream",
     "text": [
      "Flow IAT Mean\n"
     ]
    },
    {
     "data": {
      "image/png": "[encoded data removed]",
      "text/plain": [
       "<Figure size 864x144 with 1 Axes>"
      ]
     },
     "metadata": {
      "needs_background": "light"
     },
     "output_type": "display_data"
    },
    {
     "name": "stdout",
     "output_type": "stream",
     "text": [
      "Flow IAT Std\n"
     ]
    },
    {
     "data": {
      "image/png": "[encoded data removed]",
      "text/plain": [
       "<Figure size 864x144 with 1 Axes>"
      ]
     },
     "metadata": {
      "needs_background": "light"
     },
     "output_type": "display_data"
    },
    {
     "name": "stdout",
     "output_type": "stream",
     "text": [
      "Flow IAT Max\n"
     ]
    },
    {
     "data": {
      "image/png": "[encoded data removed]",
      "text/plain": [
       "<Figure size 864x144 with 1 Axes>"
      ]
     },
     "metadata": {
      "needs_background": "light"
     },
     "output_type": "display_data"
    },
    {
     "name": "stdout",
     "output_type": "stream",
     "text": [
      "Flow IAT Min\n"
     ]
    },
    {
     "data": {
      "image/png": "[encoded data removed]",
      "text/plain": [
       "<Figure size 864x144 with 1 Axes>"
      ]
     },
     "metadata": {
      "needs_background": "light"
     },
     "output_type": "display_data"
    },
    {
     "name": "stdout",
     "output_type": "stream",
     "text": [
      "Fwd IAT Total\n"
     ]
    },
    {
     "data": {
      "image/png": "[encoded data removed]",
      "text/plain": [
       "<Figure size 864x144 with 1 Axes>"
      ]
     },
     "metadata": {
      "needs_background": "light"
     },
     "output_type": "display_data"
    },
    {
     "name": "stdout",
     "output_type": "stream",
     "text": [
      "Fwd IAT Mean\n"
     ]
    },
    {
     "data": {
      "image/png": "[encoded data removed]",
      "text/plain": [
       "<Figure size 864x144 with 1 Axes>"
      ]
     },
     "metadata": {
      "needs_background": "light"
     },
     "output_type": "display_data"
    },
    {
     "name": "stdout",
     "output_type": "stream",
     "text": [
      "Fwd IAT Std\n"
     ]
    },
    {
     "data": {
      "image/png": "[encoded data removed]",
      "text/plain": [
       "<Figure size 864x144 with 1 Axes>"
      ]
     },
     "metadata": {
      "needs_background": "light"
     },
     "output_type": "display_data"
    },
    {
     "name": "stdout",
     "output_type": "stream",
     "text": [
      "Fwd IAT Max\n"
     ]
    },
    {
     "data": {
      "image/png": "[encoded data removed]",
      "text/plain": [
       "<Figure size 864x144 with 1 Axes>"
      ]
     },
     "metadata": {
      "needs_background": "light"
     },
     "output_type": "display_data"
    },
    {
     "name": "stdout",
     "output_type": "stream",
     "text": [
      "Fwd IAT Min\n"
     ]
    },
    {
     "data": {
      "image/png": "[encoded data removed]",
      "text/plain": [
       "<Figure size 864x144 with 1 Axes>"
      ]
     },
     "metadata": {
      "needs_background": "light"
     },
     "output_type": "display_data"
    },
    {
     "name": "stdout",
     "output_type": "stream",
     "text": [
      "Bwd IAT Total\n"
     ]
    },
    {
     "data": {
      "image/png": "[encoded data removed]",
      "text/plain": [
       "<Figure size 864x144 with 1 Axes>"
      ]
     },
     "metadata": {
      "needs_background": "light"
     },
     "output_type": "display_data"
    },
    {
     "name": "stdout",
     "output_type": "stream",
     "text": [
      "Bwd IAT Mean\n"
     ]
    },
    {
     "data": {
      "image/png": "[encoded data removed]",
      "text/plain": [
       "<Figure size 864x144 with 1 Axes>"
      ]
     },
     "metadata": {
      "needs_background": "light"
     },
     "output_type": "display_data"
    },
    {
     "name": "stdout",
     "output_type": "stream",
     "text": [
      "Bwd IAT Std\n"
     ]
    },
    {
     "data": {
      "image/png": "[encoded data removed]",
      "text/plain": [
       "<Figure size 864x144 with 1 Axes>"
      ]
     },
     "metadata": {
      "needs_background": "light"
     },
     "output_type": "display_data"
    },
    {
     "name": "stdout",
     "output_type": "stream",
     "text": [
      "Bwd IAT Max\n"
     ]
    },
    {
     "data": {
      "image/png": "[encoded data removed]",
      "text/plain": [
       "<Figure size 864x144 with 1 Axes>"
      ]
     },
     "metadata": {
      "needs_background": "light"
     },
     "output_type": "display_data"
    },
    {
     "name": "stdout",
     "output_type": "stream",
     "text": [
      "Bwd IAT Min\n"
     ]
    },
    {
     "data": {
      "image/png": "[encoded data removed]",
      "text/plain": [
       "<Figure size 864x144 with 1 Axes>"
      ]
     },
     "metadata": {
      "needs_background": "light"
     },
     "output_type": "display_data"
    },
    {
     "name": "stdout",
     "output_type": "stream",
     "text": [
      "Fwd PSH Flags\n"
     ]
    },
    {
     "data": {
      "image/png": "[encoded data removed]",
      "text/plain": [
       "<Figure size 864x144 with 1 Axes>"
      ]
     },
     "metadata": {
      "needs_background": "light"
     },
     "output_type": "display_data"
    },
    {
     "name": "stdout",
     "output_type": "stream",
     "text": [
      "Fwd URG Flags\n"
     ]
    },
    {
     "data": {
      "image/png": "[encoded data removed]",
      "text/plain": [
       "<Figure size 864x144 with 1 Axes>"
      ]
     },
     "metadata": {
      "needs_background": "light"
     },
     "output_type": "display_data"
    },
    {
     "name": "stdout",
     "output_type": "stream",
     "text": [
      "Fwd Header Length\n"
     ]
    },
    {
     "data": {
      "image/png": "[encoded data removed]",
      "text/plain": [
       "<Figure size 864x144 with 1 Axes>"
      ]
     },
     "metadata": {
      "needs_background": "light"
     },
     "output_type": "display_data"
    },
    {
     "name": "stdout",
     "output_type": "stream",
     "text": [
      "Bwd Header Length\n"
     ]
    },
    {
     "data": {
      "image/png": "[encoded data removed]",
      "text/plain": [
       "<Figure size 864x144 with 1 Axes>"
      ]
     },
     "metadata": {
      "needs_background": "light"
     },
     "output_type": "display_data"
    },
    {
     "name": "stdout",
     "output_type": "stream",
     "text": [
      "Fwd Packets/s\n"
     ]
    },
    {
     "data": {
      "image/png": "[encoded data removed]",
      "text/plain": [
       "<Figure size 864x144 with 1 Axes>"
      ]
     },
     "metadata": {
      "needs_background": "light"
     },
     "output_type": "display_data"
    },
    {
     "name": "stdout",
     "output_type": "stream",
     "text": [
      "Bwd Packets/s\n"
     ]
    },
    {
     "data": {
      "image/png": "[encoded data removed]",
      "text/plain": [
       "<Figure size 864x144 with 1 Axes>"
      ]
     },
     "metadata": {
      "needs_background": "light"
     },
     "output_type": "display_data"
    },
    {
     "name": "stdout",
     "output_type": "stream",
     "text": [
      "Min Packet Length\n"
     ]
    },
    {
     "data": {
      "image/png": "[encoded data removed]",
      "text/plain": [
       "<Figure size 864x144 with 1 Axes>"
      ]
     },
     "metadata": {
      "needs_background": "light"
     },
     "output_type": "display_data"
    },
    {
     "name": "stdout",
     "output_type": "stream",
     "text": [
      "Max Packet Length\n"
     ]
    },
    {
     "data": {
      "image/png": "[encoded data removed]",
      "text/plain": [
       "<Figure size 864x144 with 1 Axes>"
      ]
     },
     "metadata": {
      "needs_background": "light"
     },
     "output_type": "display_data"
    },
    {
     "name": "stdout",
     "output_type": "stream",
     "text": [
      "Packet Length Mean\n"
     ]
    },
    {
     "data": {
      "image/png": "[encoded data removed]",
      "text/plain": [
       "<Figure size 864x144 with 1 Axes>"
      ]
     },
     "metadata": {
      "needs_background": "light"
     },
     "output_type": "display_data"
    },
    {
     "name": "stdout",
     "output_type": "stream",
     "text": [
      "Packet Length Std\n"
     ]
    },
    {
     "data": {
      "image/png": "[encoded data removed]",
      "text/plain": [
       "<Figure size 864x144 with 1 Axes>"
      ]
     },
     "metadata": {
      "needs_background": "light"
     },
     "output_type": "display_data"
    },
    {
     "name": "stdout",
     "output_type": "stream",
     "text": [
      "Packet Length Variance\n"
     ]
    },
    {
     "data": {
      "image/png": "[encoded data removed]",
      "text/plain": [
       "<Figure size 864x144 with 1 Axes>"
      ]
     },
     "metadata": {
      "needs_background": "light"
     },
     "output_type": "display_data"
    },
    {
     "name": "stdout",
     "output_type": "stream",
     "text": [
      "FIN Flag Count\n"
     ]
    },
    {
     "data": {
      "image/png": "[encoded data removed]",
      "text/plain": [
       "<Figure size 864x144 with 1 Axes>"
      ]
     },
     "metadata": {
      "needs_background": "light"
     },
     "output_type": "display_data"
    },
    {
     "name": "stdout",
     "output_type": "stream",
     "text": [
      "SYN Flag Count\n"
     ]
    },
    {
     "data": {
      "image/png": "[encoded data removed]",
      "text/plain": [
       "<Figure size 864x144 with 1 Axes>"
      ]
     },
     "metadata": {
      "needs_background": "light"
     },
     "output_type": "display_data"
    },
    {
     "name": "stdout",
     "output_type": "stream",
     "text": [
      "RST Flag Count\n"
     ]
    },
    {
     "data": {
      "image/png": "[encoded data removed]",
      "text/plain": [
       "<Figure size 864x144 with 1 Axes>"
      ]
     },
     "metadata": {
      "needs_background": "light"
     },
     "output_type": "display_data"
    },
    {
     "name": "stdout",
     "output_type": "stream",
     "text": [
      "PSH Flag Count\n"
     ]
    },
    {
     "data": {
      "image/png": "[encoded data removed]",
      "text/plain": [
       "<Figure size 864x144 with 1 Axes>"
      ]
     },
     "metadata": {
      "needs_background": "light"
     },
     "output_type": "display_data"
    },
    {
     "name": "stdout",
     "output_type": "stream",
     "text": [
      "ACK Flag Count\n"
     ]
    },
    {
     "data": {
      "image/png": "[encoded data removed]",
      "text/plain": [
       "<Figure size 864x144 with 1 Axes>"
      ]
     },
     "metadata": {
      "needs_background": "light"
     },
     "output_type": "display_data"
    },
    {
     "name": "stdout",
     "output_type": "stream",
     "text": [
      "URG Flag Count\n"
     ]
    },
    {
     "data": {
      "image/png": "[encoded data removed]",
      "text/plain": [
       "<Figure size 864x144 with 1 Axes>"
      ]
     },
     "metadata": {
      "needs_background": "light"
     },
     "output_type": "display_data"
    },
    {
     "name": "stdout",
     "output_type": "stream",
     "text": [
      "CWE Flag Count\n"
     ]
    },
    {
     "data": {
      "image/png": "[encoded data removed]",
      "text/plain": [
       "<Figure size 864x144 with 1 Axes>"
      ]
     },
     "metadata": {
      "needs_background": "light"
     },
     "output_type": "display_data"
    },
    {
     "name": "stdout",
     "output_type": "stream",
     "text": [
      "ECE Flag Count\n"
     ]
    },
    {
     "data": {
      "image/png": "[encoded data removed]",
      "text/plain": [
       "<Figure size 864x144 with 1 Axes>"
      ]
     },
     "metadata": {
      "needs_background": "light"
     },
     "output_type": "display_data"
    },
    {
     "name": "stdout",
     "output_type": "stream",
     "text": [
      "Down/Up Ratio\n"
     ]
    },
    {
     "data": {
      "image/png": "[encoded data removed]",
      "text/plain": [
       "<Figure size 864x144 with 1 Axes>"
      ]
     },
     "metadata": {
      "needs_background": "light"
     },
     "output_type": "display_data"
    },
    {
     "name": "stdout",
     "output_type": "stream",
     "text": [
      "Average Packet Size\n"
     ]
    },
    {
     "data": {
      "image/png": "[encoded data removed]",
      "text/plain": [
       "<Figure size 864x144 with 1 Axes>"
      ]
     },
     "metadata": {
      "needs_background": "light"
     },
     "output_type": "display_data"
    },
    {
     "name": "stdout",
     "output_type": "stream",
     "text": [
      "Avg Fwd Segment Size\n"
     ]
    },
    {
     "data": {
      "image/png": "[encoded data removed]",
      "text/plain": [
       "<Figure size 864x144 with 1 Axes>"
      ]
     },
     "metadata": {
      "needs_background": "light"
     },
     "output_type": "display_data"
    },
    {
     "name": "stdout",
     "output_type": "stream",
     "text": [
      "Avg Bwd Segment Size\n"
     ]
    },
    {
     "data": {
      "image/png": "[encoded data removed]",
      "text/plain": [
       "<Figure size 864x144 with 1 Axes>"
      ]
     },
     "metadata": {
      "needs_background": "light"
     },
     "output_type": "display_data"
    },
    {
     "name": "stdout",
     "output_type": "stream",
     "text": [
      "Fwd Header Length.1\n"
     ]
    },
    {
     "data": {
      "image/png": "[encoded data removed]",
      "text/plain": [
       "<Figure size 864x144 with 1 Axes>"
      ]
     },
     "metadata": {
      "needs_background": "light"
     },
     "output_type": "display_data"
    },
    {
     "name": "stdout",
     "output_type": "stream",
     "text": [
      "Subflow Fwd Packets\n"
     ]
    },
    {
     "data": {
      "image/png": "[encoded data removed]",
      "text/plain": [
       "<Figure size 864x144 with 1 Axes>"
      ]
     },
     "metadata": {
      "needs_background": "light"
     },
     "output_type": "display_data"
    },
    {
     "name": "stdout",
     "output_type": "stream",
     "text": [
      "Subflow Fwd Bytes\n"
     ]
    },
    {
     "data": {
      "image/png": "[encoded data removed]",
      "text/plain": [
       "<Figure size 864x144 with 1 Axes>"
      ]
     },
     "metadata": {
      "needs_background": "light"
     },
     "output_type": "display_data"
    },
    {
     "name": "stdout",
     "output_type": "stream",
     "text": [
      "Subflow Bwd Packets\n"
     ]
    },
    {
     "data": {
      "image/png": "[encoded data removed]",
      "text/plain": [
       "<Figure size 864x144 with 1 Axes>"
      ]
     },
     "metadata": {
      "needs_background": "light"
     },
     "output_type": "display_data"
    },
    {
     "name": "stdout",
     "output_type": "stream",
     "text": [
      "Subflow Bwd Bytes\n"
     ]
    },
    {
     "data": {
      "image/png": "[encoded data removed]",
      "text/plain": [
       "<Figure size 864x144 with 1 Axes>"
      ]
     },
     "metadata": {
      "needs_background": "light"
     },
     "output_type": "display_data"
    },
    {
     "name": "stdout",
     "output_type": "stream",
     "text": [
      "Init_Win_bytes_forward\n"
     ]
    },
    {
     "data": {
      "image/png": "[encoded data removed]",
      "text/plain": [
       "<Figure size 864x144 with 1 Axes>"
      ]
     },
     "metadata": {
      "needs_background": "light"
     },
     "output_type": "display_data"
    },
    {
     "name": "stdout",
     "output_type": "stream",
     "text": [
      "Init_Win_bytes_backward\n"
     ]
    },
    {
     "data": {
      "image/png": "[encoded data removed]",
      "text/plain": [
       "<Figure size 864x144 with 1 Axes>"
      ]
     },
     "metadata": {
      "needs_background": "light"
     },
     "output_type": "display_data"
    },
    {
     "name": "stdout",
     "output_type": "stream",
     "text": [
      "act_data_pkt_fwd\n"
     ]
    },
    {
     "data": {
      "image/png": "[encoded data removed]",
      "text/plain": [
       "<Figure size 864x144 with 1 Axes>"
      ]
     },
     "metadata": {
      "needs_background": "light"
     },
     "output_type": "display_data"
    },
    {
     "name": "stdout",
     "output_type": "stream",
     "text": [
      "min_seg_size_forward\n"
     ]
    },
    {
     "data": {
      "image/png": "[encoded data removed]",
      "text/plain": [
       "<Figure size 864x144 with 1 Axes>"
      ]
     },
     "metadata": {
      "needs_background": "light"
     },
     "output_type": "display_data"
    },
    {
     "name": "stdout",
     "output_type": "stream",
     "text": [
      "Active Mean\n"
     ]
    },
    {
     "data": {
      "image/png": "[encoded data removed]",
      "text/plain": [
       "<Figure size 864x144 with 1 Axes>"
      ]
     },
     "metadata": {
      "needs_background": "light"
     },
     "output_type": "display_data"
    },
    {
     "name": "stdout",
     "output_type": "stream",
     "text": [
      "Active Std\n"
     ]
    },
    {
     "data": {
      "image/png": "[encoded data removed]",
      "text/plain": [
       "<Figure size 864x144 with 1 Axes>"
      ]
     },
     "metadata": {
      "needs_background": "light"
     },
     "output_type": "display_data"
    },
    {
     "name": "stdout",
     "output_type": "stream",
     "text": [
      "Active Max\n"
     ]
    },
    {
     "data": {
      "image/png": "[encoded data removed]",
      "text/plain": [
       "<Figure size 864x144 with 1 Axes>"
      ]
     },
     "metadata": {
      "needs_background": "light"
     },
     "output_type": "display_data"
    },
    {
     "name": "stdout",
     "output_type": "stream",
     "text": [
      "Active Min\n"
     ]
    },
    {
     "data": {
      "image/png": "[encoded data removed]",
      "text/plain": [
       "<Figure size 864x144 with 1 Axes>"
      ]
     },
     "metadata": {
      "needs_background": "light"
     },
     "output_type": "display_data"
    },
    {
     "name": "stdout",
     "output_type": "stream",
     "text": [
      "Idle Mean\n"
     ]
    },
    {
     "data": {
      "image/png": "[encoded data removed]",
      "text/plain": [
       "<Figure size 864x144 with 1 Axes>"
      ]
     },
     "metadata": {
      "needs_background": "light"
     },
     "output_type": "display_data"
    },
    {
     "name": "stdout",
     "output_type": "stream",
     "text": [
      "Idle Std\n"
     ]
    },
    {
     "data": {
      "image/png": "[encoded data removed]",
      "text/plain": [
       "<Figure size 864x144 with 1 Axes>"
      ]
     },
     "metadata": {
      "needs_background": "light"
     },
     "output_type": "display_data"
    },
    {
     "name": "stdout",
     "output_type": "stream",
     "text": [
      "Idle Max\n"
     ]
    },
    {
     "data": {
      "image/png": "[encoded data removed]",
      "text/plain": [
       "<Figure size 864x144 with 1 Axes>"
      ]
     },
     "metadata": {
      "needs_background": "light"
     },
     "output_type": "display_data"
    },
    {
     "name": "stdout",
     "output_type": "stream",
     "text": [
      "Idle Min\n"
     ]
    },
    {
     "data": {
      "image/png": "[encoded data removed]",
      "text/plain": [
       "<Figure size 864x144 with 1 Axes>"
      ]
     },
     "metadata": {
      "needs_background": "light"
     },
     "output_type": "display_data"
    }
   ],
   "source": [
    "# Вывдедем диаграмму размаха для всех признаков\n",
    "for column in df.select_dtypes(include=['int', 'float']).columns:\n",
    "    print(column)\n",
    "    df.boxplot(column=column, vert=False, figsize=(12,2))\n",
    "    plt.show()"
   ]
  },
  {
   "cell_type": "markdown",
   "id": "f3afdfbf",
   "metadata": {},
   "source": [
    "Выбросы есть практически в каждом столбце. Поскольку данные достаточно разнородные и неизвестно, каким образом получены выбросы, удалять их не следует. Но это необходимо учесть при выборе модели."
   ]
  },
  {
   "cell_type": "code",
   "execution_count": 155,
   "id": "c0c7b006",
   "metadata": {},
   "outputs": [
    {
     "data": {
      "text/plain": [
       "array(['BENIGN', 'PortScan', 'DoS Hulk', 'DDoS', 'Bot', 'Infiltration',\n",
       "       'Web Attack � Brute Force', 'Web Attack � XSS',\n",
       "       'Web Attack � Sql Injection', 'FTP-Patator', 'SSH-Patator',\n",
       "       'DoS slowloris', 'DoS Slowhttptest', 'DoS GoldenEye', 'Heartbleed'],\n",
       "      dtype=object)"
      ]
     },
     "execution_count": 155,
     "metadata": {},
     "output_type": "execute_result"
    }
   ],
   "source": [
    "# Выведем уникальные названия таргетов\n",
    "df['Label'].unique()"
   ]
  },
  {
   "cell_type": "markdown",
   "id": "5f8afe18",
   "metadata": {},
   "source": [
    "Судя по названиям, доброкачественный трафик это только BENIGN. Остальное представляет опасность."
   ]
  },
  {
   "cell_type": "code",
   "execution_count": 156,
   "id": "8195b4f5",
   "metadata": {},
   "outputs": [
    {
     "name": "stdout",
     "output_type": "stream",
     "text": [
      "Label\n",
      "BENIGN                        0.445087\n",
      "DoS Hulk                      0.214285\n",
      "PortScan                      0.147757\n",
      "DDoS                          0.119389\n",
      "DoS GoldenEye                 0.019092\n",
      "FTP-Patator                   0.014724\n",
      "SSH-Patator                   0.010938\n",
      "DoS slowloris                 0.010751\n",
      "DoS Slowhttptest              0.010200\n",
      "Bot                           0.003647\n",
      "Web Attack � Brute Force      0.002795\n",
      "Web Attack � XSS              0.001209\n",
      "Infiltration                  0.000067\n",
      "Web Attack � Sql Injection    0.000039\n",
      "Heartbleed                    0.000020\n",
      "Name: proportion, dtype: float64\n"
     ]
    },
    {
     "data": {
      "image/png": "[encoded data removed]",
      "text/plain": [
       "<Figure size 432x288 with 1 Axes>"
      ]
     },
     "metadata": {
      "needs_background": "light"
     },
     "output_type": "display_data"
    }
   ],
   "source": [
    "# Относительная частота значений от 0 до 1\n",
    "class_frequency = df['Label'].value_counts(normalize=True)\n",
    "\n",
    "# Выведем относительное количество данных в классах\n",
    "print(class_frequency)\n",
    "\n",
    "# Для наглядности выведем диаграмму\n",
    "class_frequency.plot(kind='bar', color='magenta');"
   ]
  },
  {
   "cell_type": "markdown",
   "id": "129ed881",
   "metadata": {},
   "source": [
    "Примерно половина трафика не представляет опасности. Создадим новый признак, который отразит классификацию злонамеренный/нормальный трафик, где 1 - атака, 0 - доброкачественный трафик."
   ]
  },
  {
   "cell_type": "code",
   "execution_count": 157,
   "id": "7536b657",
   "metadata": {},
   "outputs": [],
   "source": [
    "# Создадим признак\n",
    "df['Is_attack'] = np.where(df['Label'] == 'BENIGN', 0, 1)"
   ]
  },
  {
   "cell_type": "code",
   "execution_count": 158,
   "id": "d74c067d",
   "metadata": {},
   "outputs": [
    {
     "name": "stdout",
     "output_type": "stream",
     "text": [
      "Is_attack\n",
      "1    0.554913\n",
      "0    0.445087\n",
      "Name: proportion, dtype: float64\n"
     ]
    },
    {
     "data": {
      "image/png": "[encoded data removed]",
      "text/plain": [
       "<Figure size 432x288 with 1 Axes>"
      ]
     },
     "metadata": {
      "needs_background": "light"
     },
     "output_type": "display_data"
    }
   ],
   "source": [
    "# Относительная частота значений от 0 до 1\n",
    "class_frequency = df['Is_attack'].value_counts(normalize=True)\n",
    "\n",
    "# Выведем относительное количество данных в двух классах\n",
    "print(class_frequency)\n",
    "\n",
    "# Для наглядности выведем диаграмму\n",
    "class_frequency.plot(kind='bar', color='pink');"
   ]
  },
  {
   "cell_type": "markdown",
   "id": "2dd31d20",
   "metadata": {},
   "source": [
    "Таким образом, баланс атакующего и нормального трафика практически равный. Это позволит лучше отделить злонамеренный трафик. Далее приступим к разделению выборки и обучению моделей."
   ]
  },
  {
   "cell_type": "markdown",
   "id": "ee9d1ce0",
   "metadata": {},
   "source": [
    "# Обучение моделей"
   ]
  },
  {
   "cell_type": "markdown",
   "id": "a399612a",
   "metadata": {},
   "source": [
    "Для данной задачи попробуем использовать подход, при котором будет использовано две модели классификации. Первая модель будет предсказывать вредоность трафика - вредоностный или нормальный. Вторая модель будет классифицировать уже только злонамеренный трафик по характеру воздействия. Поскольку баланс классов злономеренный/нормальный трафик практически равный, предполагается, что тако подход будет более эффективным. В перспективе модели можно объединить в один пайплайн, чтобы в один заход получать всю классификацию трафика. Для обеиз подзадач будем использовать catboost как наиболее подходящая модель и не требующая предварительной категоризации данных."
   ]
  },
  {
   "cell_type": "markdown",
   "id": "0c05c73b",
   "metadata": {},
   "source": [
    "## Первая модель"
   ]
  },
  {
   "cell_type": "markdown",
   "id": "c1bb2f85",
   "metadata": {},
   "source": [
    "Как было описано выше, первая модель будет производить бинарную классификацию. Разделим выборку для обучения."
   ]
  },
  {
   "cell_type": "code",
   "execution_count": 172,
   "id": "5ed67697",
   "metadata": {},
   "outputs": [],
   "source": [
    "# Разделим выборку\n",
    "X = df.drop('Is_attack', axis=1)\n",
    "y = df['Is_attack']\n",
    "\n",
    "X_train, X_test, y_train, y_test = train_test_split(\n",
    "        X, y, shuffle=True, test_size=0.25, stratify=y, random_state=1234)"
   ]
  },
  {
   "cell_type": "code",
   "execution_count": 173,
   "id": "21dab972",
   "metadata": {},
   "outputs": [],
   "source": [
    "# Для обучения первой модели избавимся от Label\n",
    "X_train_1 = X_train.drop('Label', axis=1)\n",
    "y_train_1 = y_train.copy()"
   ]
  },
  {
   "cell_type": "code",
   "execution_count": 174,
   "id": "b7c5dd9d",
   "metadata": {},
   "outputs": [],
   "source": [
    "# Для обучения первой модели избавимся от Label\n",
    "X_test_1 = X_test.drop('Label', axis=1)\n",
    "y_test_1 = y_test.copy()"
   ]
  },
  {
   "cell_type": "code",
   "execution_count": 175,
   "id": "3c748426",
   "metadata": {},
   "outputs": [
    {
     "name": "stdout",
     "output_type": "stream",
     "text": [
      "(404346, 70)\n",
      "(404346,)\n",
      "(134782, 70)\n",
      "(134782,)\n"
     ]
    }
   ],
   "source": [
    "# Посмотрим на результат деления\n",
    "print(X_train_1.shape)\n",
    "print(y_train_1.shape)\n",
    "print(X_test_1.shape)\n",
    "print(y_test_1.shape)"
   ]
  },
  {
   "cell_type": "markdown",
   "id": "60fa4a8a",
   "metadata": {},
   "source": [
    "В численных данных много выбросов, нормализуем значения в признаках. Однако, поскольку \"деревянные\" модели не чувствительны к выбросам, данные можно не нормализовать."
   ]
  },
  {
   "cell_type": "markdown",
   "id": "768c49a2",
   "metadata": {},
   "source": [
    "Далее обучим первую модель. Поскольку первоначальная детекция злонамеренного трафика очень важна, для лучших результатов, выполним поиск по сетке."
   ]
  },
  {
   "cell_type": "code",
   "execution_count": 176,
   "id": "52aebd0c",
   "metadata": {},
   "outputs": [
    {
     "name": "stdout",
     "output_type": "stream",
     "text": [
      "\n",
      "bestTest = 0.9998489576\n",
      "bestIteration = 99\n",
      "\n",
      "0:\tloss: 0.9998490\tbest: 0.9998490 (0)\ttotal: 11.9s\tremaining: 7m 42s\n",
      "\n",
      "bestTest = 0.9998194298\n",
      "bestIteration = 67\n",
      "\n",
      "1:\tloss: 0.9998194\tbest: 0.9998490 (0)\ttotal: 23s\tremaining: 7m 16s\n",
      "\n",
      "bestTest = 0.9998335997\n",
      "bestIteration = 94\n",
      "\n",
      "2:\tloss: 0.9998336\tbest: 0.9998490 (0)\ttotal: 34.6s\tremaining: 7m 6s\n",
      "\n",
      "bestTest = 0.9998810261\n",
      "bestIteration = 99\n",
      "\n",
      "3:\tloss: 0.9998810\tbest: 0.9998810 (3)\ttotal: 45.5s\tremaining: 6m 49s\n",
      "\n",
      "bestTest = 0.999807327\n",
      "bestIteration = 99\n",
      "\n",
      "4:\tloss: 0.9998073\tbest: 0.9998810 (3)\ttotal: 56.7s\tremaining: 6m 36s\n",
      "\n",
      "bestTest = 0.9998828991\n",
      "bestIteration = 97\n",
      "\n",
      "5:\tloss: 0.9998829\tbest: 0.9998829 (5)\ttotal: 1m 7s\tremaining: 6m 22s\n",
      "\n",
      "bestTest = 0.9998390372\n",
      "bestIteration = 99\n",
      "\n",
      "6:\tloss: 0.9998390\tbest: 0.9998829 (5)\ttotal: 1m 18s\tremaining: 6m 10s\n",
      "\n",
      "bestTest = 0.999864984\n",
      "bestIteration = 99\n",
      "\n",
      "7:\tloss: 0.9998650\tbest: 0.9998829 (5)\ttotal: 1m 29s\tremaining: 5m 57s\n",
      "\n",
      "bestTest = 0.9998305552\n",
      "bestIteration = 99\n",
      "\n",
      "8:\tloss: 0.9998306\tbest: 0.9998829 (5)\ttotal: 1m 40s\tremaining: 5m 46s\n",
      "\n",
      "bestTest = 0.9998690307\n",
      "bestIteration = 90\n",
      "\n",
      "9:\tloss: 0.9998690\tbest: 0.9998829 (5)\ttotal: 1m 51s\tremaining: 5m 34s\n",
      "\n",
      "bestTest = 0.999810179\n",
      "bestIteration = 98\n",
      "\n",
      "10:\tloss: 0.9998102\tbest: 0.9998829 (5)\ttotal: 2m 2s\tremaining: 5m 23s\n",
      "\n",
      "bestTest = 0.9998799964\n",
      "bestIteration = 99\n",
      "\n",
      "11:\tloss: 0.9998800\tbest: 0.9998829 (5)\ttotal: 2m 14s\tremaining: 5m 12s\n",
      "\n",
      "bestTest = 0.9998377367\n",
      "bestIteration = 96\n",
      "\n",
      "12:\tloss: 0.9998377\tbest: 0.9998829 (5)\ttotal: 2m 25s\tremaining: 5m 2s\n",
      "\n",
      "bestTest = 0.9998585724\n",
      "bestIteration = 84\n",
      "\n",
      "13:\tloss: 0.9998586\tbest: 0.9998829 (5)\ttotal: 2m 36s\tremaining: 4m 50s\n",
      "\n",
      "bestTest = 0.9998301752\n",
      "bestIteration = 99\n",
      "\n",
      "14:\tloss: 0.9998302\tbest: 0.9998829 (5)\ttotal: 2m 47s\tremaining: 4m 39s\n",
      "\n",
      "bestTest = 0.999865187\n",
      "bestIteration = 84\n",
      "\n",
      "15:\tloss: 0.9998652\tbest: 0.9998829 (5)\ttotal: 2m 58s\tremaining: 4m 27s\n",
      "\n",
      "bestTest = 0.9998272431\n",
      "bestIteration = 99\n",
      "\n",
      "16:\tloss: 0.9998272\tbest: 0.9998829 (5)\ttotal: 3m 9s\tremaining: 4m 16s\n",
      "\n",
      "bestTest = 0.9998569541\n",
      "bestIteration = 97\n",
      "\n",
      "17:\tloss: 0.9998570\tbest: 0.9998829 (5)\ttotal: 3m 20s\tremaining: 4m 4s\n",
      "\n",
      "bestTest = 0.9998407384\n",
      "bestIteration = 97\n",
      "\n",
      "18:\tloss: 0.9998407\tbest: 0.9998829 (5)\ttotal: 3m 31s\tremaining: 3m 54s\n",
      "\n",
      "bestTest = 0.9998521441\n",
      "bestIteration = 89\n",
      "\n",
      "19:\tloss: 0.9998521\tbest: 0.9998829 (5)\ttotal: 3m 42s\tremaining: 3m 42s\n"
     ]
    },
    {
     "name": "stderr",
     "output_type": "stream",
     "text": [
      "Training has stopped (degenerate solution on iteration 17, probably too small l2-regularization, try to increase it)\n"
     ]
    },
    {
     "name": "stdout",
     "output_type": "stream",
     "text": [
      "\n",
      "bestTest = 0.9991576891\n",
      "bestIteration = 16\n",
      "\n",
      "20:\tloss: 0.9991577\tbest: 0.9998829 (5)\ttotal: 3m 45s\tremaining: 3m 23s\n",
      "\n",
      "bestTest = 0.9999308305\n",
      "bestIteration = 67\n",
      "\n",
      "21:\tloss: 0.9999308\tbest: 0.9999308 (21)\ttotal: 3m 58s\tremaining: 3m 15s\n",
      "\n",
      "bestTest = 0.9999395928\n",
      "bestIteration = 99\n",
      "\n",
      "22:\tloss: 0.9999396\tbest: 0.9999396 (22)\ttotal: 4m 13s\tremaining: 3m 7s\n",
      "\n",
      "bestTest = 0.9999131447\n",
      "bestIteration = 84\n",
      "\n",
      "23:\tloss: 0.9999131\tbest: 0.9999396 (22)\ttotal: 4m 30s\tremaining: 3m\n",
      "\n",
      "bestTest = 0.9999297553\n",
      "bestIteration = 98\n",
      "\n",
      "24:\tloss: 0.9999298\tbest: 0.9999396 (22)\ttotal: 4m 44s\tremaining: 2m 50s\n",
      "\n",
      "bestTest = 0.9999225881\n",
      "bestIteration = 99\n",
      "\n",
      "25:\tloss: 0.9999226\tbest: 0.9999396 (22)\ttotal: 4m 57s\tremaining: 2m 40s\n",
      "\n",
      "bestTest = 0.9999241225\n",
      "bestIteration = 94\n",
      "\n",
      "26:\tloss: 0.9999241\tbest: 0.9999396 (22)\ttotal: 5m 11s\tremaining: 2m 29s\n",
      "\n",
      "bestTest = 0.9999321635\n",
      "bestIteration = 84\n",
      "\n",
      "27:\tloss: 0.9999322\tbest: 0.9999396 (22)\ttotal: 5m 24s\tremaining: 2m 19s\n",
      "\n",
      "bestTest = 0.9999218195\n",
      "bestIteration = 99\n",
      "\n",
      "28:\tloss: 0.9999218\tbest: 0.9999396 (22)\ttotal: 5m 38s\tremaining: 2m 8s\n",
      "\n",
      "bestTest = 0.9998805187\n",
      "bestIteration = 92\n",
      "\n",
      "29:\tloss: 0.9998805\tbest: 0.9999396 (22)\ttotal: 5m 50s\tremaining: 1m 56s\n",
      "\n",
      "bestTest = 0.9999259373\n",
      "bestIteration = 98\n",
      "\n",
      "30:\tloss: 0.9999259\tbest: 0.9999396 (22)\ttotal: 6m 4s\tremaining: 1m 45s\n",
      "\n",
      "bestTest = 0.9999236838\n",
      "bestIteration = 95\n",
      "\n",
      "31:\tloss: 0.9999237\tbest: 0.9999396 (22)\ttotal: 6m 18s\tremaining: 1m 34s\n",
      "\n",
      "bestTest = 0.9999248221\n",
      "bestIteration = 99\n",
      "\n",
      "32:\tloss: 0.9999248\tbest: 0.9999396 (22)\ttotal: 6m 32s\tremaining: 1m 23s\n",
      "\n",
      "bestTest = 0.9999096139\n",
      "bestIteration = 76\n",
      "\n",
      "33:\tloss: 0.9999096\tbest: 0.9999396 (22)\ttotal: 6m 45s\tremaining: 1m 11s\n",
      "\n",
      "bestTest = 0.9999061582\n",
      "bestIteration = 89\n",
      "\n",
      "34:\tloss: 0.9999062\tbest: 0.9999396 (22)\ttotal: 6m 59s\tremaining: 59.9s\n",
      "\n",
      "bestTest = 0.9999021899\n",
      "bestIteration = 98\n",
      "\n",
      "35:\tloss: 0.9999022\tbest: 0.9999396 (22)\ttotal: 7m 12s\tremaining: 48.1s\n",
      "\n",
      "bestTest = 0.9999213133\n",
      "bestIteration = 98\n",
      "\n",
      "36:\tloss: 0.9999213\tbest: 0.9999396 (22)\ttotal: 7m 26s\tremaining: 36.2s\n",
      "\n",
      "bestTest = 0.9998919485\n",
      "bestIteration = 99\n",
      "\n",
      "37:\tloss: 0.9998919\tbest: 0.9999396 (22)\ttotal: 7m 39s\tremaining: 24.2s\n",
      "\n",
      "bestTest = 0.9998978455\n",
      "bestIteration = 99\n",
      "\n",
      "38:\tloss: 0.9998978\tbest: 0.9999396 (22)\ttotal: 7m 53s\tremaining: 12.1s\n",
      "\n",
      "bestTest = 0.9999018582\n",
      "bestIteration = 92\n",
      "\n",
      "39:\tloss: 0.9999019\tbest: 0.9999396 (22)\ttotal: 8m 6s\tremaining: 0us\n",
      "Estimating final quality...\n",
      "Training on fold [0/3]\n",
      "\n",
      "bestTest = 0.9999400453\n",
      "bestIteration = 97\n",
      "\n",
      "Training on fold [1/3]\n",
      "\n",
      "bestTest = 0.9999309583\n",
      "bestIteration = 99\n",
      "\n",
      "Training on fold [2/3]\n",
      "\n",
      "bestTest = 0.9999141812\n",
      "bestIteration = 92\n",
      "\n"
     ]
    }
   ],
   "source": [
    "# Определим модель\n",
    "cb_model = catboost.CatBoostClassifier(n_estimators=100,\n",
    "                                       eval_metric='AUC:hints=skip_train~false',\n",
    "                                       verbose=False)\n",
    "\n",
    "# Определим параметры для оптимизации\n",
    "param_search = {'learning_rate': [0.2, 0.3],\n",
    "                'max_depth': [4, 6],\n",
    "                'l2_leaf_reg': np.linspace(0, 2, 10)}\n",
    "\n",
    "# Выполним поиск\n",
    "cb_result = cb_model.grid_search(param_search,\n",
    "                                 X_train_1, \n",
    "                                 y_train_1, plot=False, refit=True)"
   ]
  },
  {
   "cell_type": "code",
   "execution_count": 177,
   "id": "c8dbee63",
   "metadata": {},
   "outputs": [],
   "source": [
    "# Сохраним модель\n",
    "with open('model_bi.pkl','wb') as f:\n",
    "    pickle.dump(cb_model,f)"
   ]
  },
  {
   "cell_type": "code",
   "execution_count": 178,
   "id": "ba20fe80",
   "metadata": {},
   "outputs": [
    {
     "name": "stdout",
     "output_type": "stream",
     "text": [
      "Best score: {'learn': {'Logloss': 0.0035558078614207687, 'AUC': 0.9999591636064606}}\n",
      "Best params: {'verbose': False, 'eval_metric': 'AUC:hints=skip_train~false', 'n_estimators': 100, 'depth': 6, 'learning_rate': 0.2, 'l2_leaf_reg': 0.2222222222222222}\n"
     ]
    }
   ],
   "source": [
    "# Сохраним лучшие параметры модели\n",
    "best_params = cb_model.get_params()\n",
    "\n",
    "# Вывдем лучший результат\n",
    "print(\"Best score:\", end=' ')\n",
    "print(cb_model.best_score_)\n",
    "\n",
    "# Выведем лучшую модель\n",
    "print(\"Best params:\", end=' ')\n",
    "print(best_params)"
   ]
  },
  {
   "cell_type": "code",
   "execution_count": 179,
   "id": "348b111f",
   "metadata": {},
   "outputs": [
    {
     "data": {
      "image/png": "[encoded data removed]",
      "text/plain": [
       "<Figure size 720x504 with 1 Axes>"
      ]
     },
     "metadata": {
      "needs_background": "light"
     },
     "output_type": "display_data"
    }
   ],
   "source": [
    "# Получим предсказания в виде вероятностей\n",
    "y_train_predicted = cb_model.predict_proba(X_train_1)[:, 1]\n",
    "y_test_predicted = cb_model.predict_proba(X_test_1)[:, 1]\n",
    "\n",
    "# Посчитаем roc_auc\n",
    "train_auc = roc_auc_score(y_train, y_train_predicted)\n",
    "test_auc = roc_auc_score(y_test, y_test_predicted)\n",
    "\n",
    "# Выведем кривую roc_auc\n",
    "plt.figure(figsize=(10,7))\n",
    "plt.plot(*roc_curve(y_train_1, y_train_predicted)[:2], label='train AUC={:.4f}'.format(train_auc))\n",
    "plt.plot(*roc_curve(y_test_1, y_test_predicted)[:2], label='test AUC={:.4f}'.format(test_auc))\n",
    "legend_box = plt.legend(fontsize='large', framealpha=1).get_frame()\n",
    "legend_box.set_facecolor(\"white\")\n",
    "legend_box.set_edgecolor(\"black\")\n",
    "plt.plot(np.linspace(0,1,100), np.linspace(0,1,100))\n",
    "plt.show()"
   ]
  },
  {
   "cell_type": "markdown",
   "id": "cf8d0a68",
   "metadata": {},
   "source": [
    "Результаты получились неплохие, модель хорошо предсказала отделила нормальный трафик от вредоностного. Далее классифицируем вредный трафик второй моделью."
   ]
  },
  {
   "cell_type": "markdown",
   "id": "d1efe82d",
   "metadata": {},
   "source": [
    "## Вторая модель"
   ]
  },
  {
   "cell_type": "markdown",
   "id": "b00c8c86",
   "metadata": {},
   "source": [
    " Далее подготовим данные для модели, которая будет классифицировать злокачественный трафик. Для этого строки с трафиком BENIGN не будут участовать в обучении и предсказаниях."
   ]
  },
  {
   "cell_type": "code",
   "execution_count": 183,
   "id": "b358042c",
   "metadata": {},
   "outputs": [],
   "source": [
    "# Отфильруем данные\n",
    "X_train_2 = X_train[X_train['Label'] != 'BENIGN'] \n",
    "X_test_2 = X_test[X_test['Label'] != 'BENIGN']"
   ]
  },
  {
   "cell_type": "code",
   "execution_count": 184,
   "id": "569f3ea3",
   "metadata": {},
   "outputs": [],
   "source": [
    "# Сохраним таргеты\n",
    "y_train_2 = X_train_2['Label']\n",
    "y_test_2 = X_test_2['Label']"
   ]
  },
  {
   "cell_type": "code",
   "execution_count": 185,
   "id": "5886646b",
   "metadata": {},
   "outputs": [],
   "source": [
    "# Удалим таргет из признаков\n",
    "X_train_2 = X_train_2.drop('Label', axis=1)\n",
    "X_test_2 = X_test_2.drop('Label', axis=1)"
   ]
  },
  {
   "cell_type": "code",
   "execution_count": 186,
   "id": "412c2ad4",
   "metadata": {},
   "outputs": [
    {
     "name": "stdout",
     "output_type": "stream",
     "text": [
      "(224377, 70)\n",
      "(224377,)\n",
      "(74792, 70)\n",
      "(74792,)\n"
     ]
    }
   ],
   "source": [
    "print(X_train_2.shape)\n",
    "print(y_train_2.shape)\n",
    "print(X_test_2.shape)\n",
    "print(y_test_2.shape)"
   ]
  },
  {
   "cell_type": "code",
   "execution_count": 189,
   "id": "785b2135",
   "metadata": {},
   "outputs": [
    {
     "data": {
      "application/vnd.jupyter.widget-view+json": {
       "model_id": "d513cc60fca84cde839175f7494c50cb",
       "version_major": 2,
       "version_minor": 0
      },
      "text/plain": [
       "MetricVisualizer(layout=Layout(align_self='stretch', height='500px'))"
      ]
     },
     "metadata": {},
     "output_type": "display_data"
    },
    {
     "data": {
      "text/plain": [
       "<catboost.core.CatBoostClassifier at 0x2360f8d3100>"
      ]
     },
     "execution_count": 189,
     "metadata": {},
     "output_type": "execute_result"
    }
   ],
   "source": [
    "# Определим параметры модели\n",
    "model_cb2 = CatBoostClassifier(iterations=100, \n",
    "                               depth=6, \n",
    "                               learning_rate=0.1,\n",
    "                               loss_function='MultiClass', \n",
    "                               verbose=False)\n",
    "\n",
    "\n",
    "# Обучим модель\n",
    "model_cb2.fit(X_train_2, y_train_2, plot=True)"
   ]
  },
  {
   "cell_type": "code",
   "execution_count": 190,
   "id": "e2c61a91",
   "metadata": {},
   "outputs": [],
   "source": [
    "# Сохраним модель\n",
    "with open('model_multi.pkl','wb') as f:\n",
    "    pickle.dump(model_cb2,f)"
   ]
  },
  {
   "cell_type": "code",
   "execution_count": 194,
   "id": "b8db857c",
   "metadata": {},
   "outputs": [],
   "source": [
    "# Получим предсказания на тесте\n",
    "y_pred = model_cb2.predict(X_test_2)"
   ]
  },
  {
   "cell_type": "code",
   "execution_count": 195,
   "id": "fb5fcb77",
   "metadata": {},
   "outputs": [
    {
     "name": "stdout",
     "output_type": "stream",
     "text": [
      "Среднаяя точность модели 1.0\n"
     ]
    }
   ],
   "source": [
    "# Выведем точность\n",
    "print('Среднаяя точность модели', model_cb2.score(X_train_2, y_train_2).round(2))"
   ]
  },
  {
   "cell_type": "code",
   "execution_count": 196,
   "id": "5964fbd0",
   "metadata": {},
   "outputs": [
    {
     "name": "stdout",
     "output_type": "stream",
     "text": [
      "                            precision    recall  f1-score   support\n",
      "\n",
      "                       Bot       1.00      1.00      1.00       506\n",
      "                      DDoS       1.00      1.00      1.00     16061\n",
      "             DoS GoldenEye       1.00      1.00      1.00      2648\n",
      "                  DoS Hulk       1.00      1.00      1.00     28782\n",
      "          DoS Slowhttptest       0.99      0.99      0.99      1409\n",
      "             DoS slowloris       0.99      0.99      0.99      1457\n",
      "               FTP-Patator       1.00      1.00      1.00      1971\n",
      "                Heartbleed       1.00      1.00      1.00         1\n",
      "              Infiltration       1.00      0.60      0.75        10\n",
      "                  PortScan       1.00      1.00      1.00     19939\n",
      "               SSH-Patator       1.00      1.00      1.00      1435\n",
      "  Web Attack � Brute Force       0.70      0.99      0.82       397\n",
      "Web Attack � Sql Injection       0.00      0.00      0.00         3\n",
      "          Web Attack � XSS       1.00      0.04      0.08       173\n",
      "\n",
      "                  accuracy                           1.00     74792\n",
      "                 macro avg       0.91      0.83      0.83     74792\n",
      "              weighted avg       1.00      1.00      1.00     74792\n",
      "\n"
     ]
    }
   ],
   "source": [
    "# Выведем отчет по классам\n",
    "print(classification_report(y_test_2, y_pred))"
   ]
  },
  {
   "cell_type": "markdown",
   "id": "39c98b1f",
   "metadata": {},
   "source": [
    "Почти все классы предсказаны с хорошей точностью. Исключение составляют Infiltration, Web Attack � Brute Force, Web Attack � Sql Injection и Web Attack � XSS. Это достаточно малочисленные классы, тренировочных данных для них немного. Интересно, что категория Web Attack XSS предсказывается с хорошей точностью, но полнота почти нулевая. Возможно в этой категории сильный дисбаланс."
   ]
  },
  {
   "cell_type": "markdown",
   "id": "8b402de5",
   "metadata": {},
   "source": [
    "# Тестирование моделей"
   ]
  },
  {
   "cell_type": "markdown",
   "id": "f816d51a",
   "metadata": {},
   "source": [
    "Далее объединим две модели в общий пайплайн. Для этого будет создана функция, принимающая данные о трафике. Первая модель определит злонамеренный ли это трафик, а далее, если это окажется положительный класс, отсортирует по типу атаки. Данные будем подавать в формате json (заготовка под микросервис)."
   ]
  },
  {
   "cell_type": "code",
   "execution_count": 232,
   "id": "dae8c09f",
   "metadata": {},
   "outputs": [],
   "source": [
    "# Создадим тестовую строку в формате json\n",
    "result = X_test.sample(1).to_json(orient=\"columns\")"
   ]
  },
  {
   "cell_type": "code",
   "execution_count": 236,
   "id": "89fa2d2c",
   "metadata": {},
   "outputs": [],
   "source": [
    "# Выполним сохранение и загрузку\n",
    "save_json = json.dumps(result)\n",
    "test = json.loads(save_json)"
   ]
  },
  {
   "cell_type": "code",
   "execution_count": 237,
   "id": "b5617a93",
   "metadata": {},
   "outputs": [],
   "source": [
    "# Зададим функцию для выполнения предсказаний\n",
    "\n",
    "def attack_prediction(attack_data):\n",
    "    \"\"\"Функция принимает данные в формате json.\n",
    "    Выполняет загрузку модели, преобразование данных\n",
    "    и выдает предсказание в формате list\"\"\"\n",
    "    \n",
    "   # Загрузим модели\n",
    "    with open('model_bi.pkl', 'rb') as fid:\n",
    "        model_bi = pickle.load(fid)\n",
    "    \n",
    "    with open('model_multi.pkl', 'rb') as fid:\n",
    "        model_multi = pickle.load(fid)\n",
    "            \n",
    "    # Загрузим данные\n",
    "    json_data = json.loads(attack_data)\n",
    "    df = pd.DataFrame(json_data)\n",
    "    \n",
    "    # Удалим признак, указывающий на таргет\n",
    "    try:\n",
    "        X = df.drop('Label', axis=1)\n",
    "    except:\n",
    "        X = df.copy()\n",
    "    \n",
    "    # Сделаем первое предсказание\n",
    "    predicted_is_attack = model_bi.predict(X)[0]\n",
    "    \n",
    "    message = 'BENIGN'\n",
    "    \n",
    "    if predicted_is_attack == 1:\n",
    "        predict_type_attack = model_multi.predict(X)[0]\n",
    "        \n",
    "        return predict_type_attack[0]\n",
    "    \n",
    "    return message"
   ]
  },
  {
   "cell_type": "code",
   "execution_count": 238,
   "id": "67492ee2",
   "metadata": {},
   "outputs": [
    {
     "data": {
      "text/plain": [
       "'DDoS'"
      ]
     },
     "execution_count": 238,
     "metadata": {},
     "output_type": "execute_result"
    }
   ],
   "source": [
    "# Получим результат\n",
    "attack_prediction(test)"
   ]
  },
  {
   "cell_type": "markdown",
   "id": "fa368a4b",
   "metadata": {},
   "source": [
    "# Выводы\n",
    "\n",
    "В результате решения задачи классификации трафика были выполнены следующие пункты и получены результаты:\n",
    "1. данные загружены и изучены;\n",
    "2. удалены неинформативные признаки, выполнена предобработка данных;\n",
    "3. изучен баланс классов;\n",
    "4. разработана модель, классифицирущая злонамеренный/доброкачественный трафик:\n",
    "   - модель catboost с параметрами: 'n_estimators': 100, 'depth': 6, 'learning_rate': 0.2, 'l2_leaf_reg': 0.2222222222222222;\n",
    "   - метрика AUC для тестовой выборки: 0,99;\n",
    "5. разработана модель, классифцирующая только злонамеренный трафик:\n",
    "   - модель catboost с параметрами: 'depth': 6, 'learning_rate': 0.1;\n",
    "   - метрики для классов:\n",
    "| Тип атаки | precision | recall  |f1-score | support |\n",
    "|----------|----------|----------|----------|----------|\n",
    "|                       Bot|       1.00   |   1.00    |  1.00   |    506\n",
    "|                      DDoS  |     1.00   |   1.00    |  1.00   |  16061\n",
    "|             DoS GoldenEye|       1.00  |    1.00    |  1.00   |   2648\n",
    " |                 DoS Hulk|       1.00   |   1.00   |   1.00   |  28782\n",
    "  |        DoS Slowhttptest|       0.99   |   0.99   |   0.99   |   1409\n",
    "  |           DoS slowloris |      0.99  |    0.99   |   0.99  |    1457\n",
    "  |             FTP-Patator |      1.00  |    1.00   |   1.00  |    1971\n",
    "  |              Heartbleed |      1.00 |     1.00   |   1.00  |       1\n",
    "  |            Infiltration |      1.00  |    0.60    |  0.75  |      10\n",
    "  |                PortScan |      1.00  |    1.00    |  1.00   |  19939\n",
    "  |             SSH-Patator  |     1.00  |    1.00    |  1.00   |   1435\n",
    " | Web Attack � Brute Force |      0.70  |    0.99  |    0.82  |     397\n",
    "|Web Attack � Sql Injection |      0.00  |    0.00  |    0.00  |       3\n",
    "|          Web Attack � XSS |      1.00  |    0.04   |   0.08   |    173\n",
    "\n",
    "6. Модели объеденены в один пайплайн в функцию, которую можно использовать для скрипта с целью вызова из микросервиса."
   ]
  },
  {
   "cell_type": "code",
   "execution_count": null,
   "id": "71cfa6cb",
   "metadata": {},
   "outputs": [],
   "source": []
  }
 ],
 "metadata": {
  "kernelspec": {
   "display_name": "Python 3 (ipykernel)",
   "language": "python",
   "name": "python3"
  },
  "language_info": {
   "codemirror_mode": {
    "name": "ipython",
    "version": 3
   },
   "file_extension": ".py",
   "mimetype": "text/x-python",
   "name": "python",
   "nbconvert_exporter": "python",
   "pygments_lexer": "ipython3",
   "version": "3.9.12"
  },
  "toc": {
   "base_numbering": 1,
   "nav_menu": {},
   "number_sections": true,
   "sideBar": true,
   "skip_h1_title": true,
   "title_cell": "Table of Contents",
   "title_sidebar": "Contents",
   "toc_cell": true,
   "toc_position": {},
   "toc_section_display": true,
   "toc_window_display": false
  }
 },
 "nbformat": 4,
 "nbformat_minor": 5
}
